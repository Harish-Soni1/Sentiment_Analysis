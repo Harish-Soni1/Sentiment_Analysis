{
 "cells": [
  {
   "cell_type": "code",
   "execution_count": 1,
   "metadata": {},
   "outputs": [],
   "source": [
    "import pandas as pd\n",
    "import numpy as np\n",
    "import seaborn as sns\n",
    "import re\n",
    "import string\n",
    "from string import punctuation\n",
    "import matplotlib.pyplot as plt"
   ]
  },
  {
   "cell_type": "code",
   "execution_count": 51,
   "metadata": {
    "scrolled": false
   },
   "outputs": [
    {
     "name": "stderr",
     "output_type": "stream",
     "text": [
      "[nltk_data] Downloading package stopwords to\n",
      "[nltk_data]     C:\\Users\\sonih\\AppData\\Roaming\\nltk_data...\n",
      "[nltk_data]   Package stopwords is already up-to-date!\n"
     ]
    },
    {
     "data": {
      "text/plain": [
       "True"
      ]
     },
     "execution_count": 51,
     "metadata": {},
     "output_type": "execute_result"
    }
   ],
   "source": [
    "import nltk\n",
    "from nltk.corpus import stopwords\n",
    "nltk.download(\"stopwords\")"
   ]
  },
  {
   "cell_type": "code",
   "execution_count": 57,
   "metadata": {},
   "outputs": [
    {
     "data": {
      "text/html": [
       "<div>\n",
       "<style scoped>\n",
       "    .dataframe tbody tr th:only-of-type {\n",
       "        vertical-align: middle;\n",
       "    }\n",
       "\n",
       "    .dataframe tbody tr th {\n",
       "        vertical-align: top;\n",
       "    }\n",
       "\n",
       "    .dataframe thead th {\n",
       "        text-align: right;\n",
       "    }\n",
       "</style>\n",
       "<table border=\"1\" class=\"dataframe\">\n",
       "  <thead>\n",
       "    <tr style=\"text-align: right;\">\n",
       "      <th></th>\n",
       "      <th>Unnamed: 0</th>\n",
       "      <th>Reviewer</th>\n",
       "      <th>Review</th>\n",
       "      <th>Ratings</th>\n",
       "      <th>Date</th>\n",
       "    </tr>\n",
       "  </thead>\n",
       "  <tbody>\n",
       "    <tr>\n",
       "      <th>0</th>\n",
       "      <td>0</td>\n",
       "      <td>tarunsonawat</td>\n",
       "      <td>Amazing, relaxed and a safe trip. The services...</td>\n",
       "      <td>5</td>\n",
       "      <td>Yesterday</td>\n",
       "    </tr>\n",
       "    <tr>\n",
       "      <th>1</th>\n",
       "      <td>1</td>\n",
       "      <td>priyeshvarsolkar</td>\n",
       "      <td>We had great time. We went for our 1st marriag...</td>\n",
       "      <td>5</td>\n",
       "      <td>Yesterday</td>\n",
       "    </tr>\n",
       "    <tr>\n",
       "      <th>2</th>\n",
       "      <td>2</td>\n",
       "      <td>cgganster</td>\n",
       "      <td>We normally stay at the Taj Lands End due to i...</td>\n",
       "      <td>5</td>\n",
       "      <td>7 Dec</td>\n",
       "    </tr>\n",
       "    <tr>\n",
       "      <th>3</th>\n",
       "      <td>3</td>\n",
       "      <td>tanishq2020</td>\n",
       "      <td>Terrible service of restaurant VISTAS , they d...</td>\n",
       "      <td>1</td>\n",
       "      <td>6 Dec</td>\n",
       "    </tr>\n",
       "    <tr>\n",
       "      <th>4</th>\n",
       "      <td>4</td>\n",
       "      <td>CAAshok71</td>\n",
       "      <td>The hotel is located at a very nice place and ...</td>\n",
       "      <td>3</td>\n",
       "      <td>6 Dec</td>\n",
       "    </tr>\n",
       "  </tbody>\n",
       "</table>\n",
       "</div>"
      ],
      "text/plain": [
       "   Unnamed: 0          Reviewer  \\\n",
       "0           0      tarunsonawat   \n",
       "1           1  priyeshvarsolkar   \n",
       "2           2         cgganster   \n",
       "3           3       tanishq2020   \n",
       "4           4         CAAshok71   \n",
       "\n",
       "                                              Review  Ratings       Date  \n",
       "0  Amazing, relaxed and a safe trip. The services...        5  Yesterday  \n",
       "1  We had great time. We went for our 1st marriag...        5  Yesterday  \n",
       "2  We normally stay at the Taj Lands End due to i...        5      7 Dec  \n",
       "3  Terrible service of restaurant VISTAS , they d...        1      6 Dec  \n",
       "4  The hotel is located at a very nice place and ...        3      6 Dec  "
      ]
     },
     "execution_count": 57,
     "metadata": {},
     "output_type": "execute_result"
    }
   ],
   "source": [
    "dataset = pd.read_csv(\"Taj_Hotel_Reviews.csv\")\n",
    "dataset.head()"
   ]
  },
  {
   "cell_type": "code",
   "execution_count": 58,
   "metadata": {},
   "outputs": [
    {
     "data": {
      "text/plain": [
       "'Sep 2019'"
      ]
     },
     "execution_count": 58,
     "metadata": {},
     "output_type": "execute_result"
    }
   ],
   "source": [
    "dataset['Date'][234][-8:]"
   ]
  },
  {
   "cell_type": "code",
   "execution_count": 59,
   "metadata": {},
   "outputs": [
    {
     "name": "stderr",
     "output_type": "stream",
     "text": [
      "c:\\users\\sonih\\appdata\\local\\programs\\python\\python37\\lib\\site-packages\\ipykernel_launcher.py:5: SettingWithCopyWarning: \n",
      "A value is trying to be set on a copy of a slice from a DataFrame\n",
      "\n",
      "See the caveats in the documentation: https://pandas.pydata.org/pandas-docs/stable/user_guide/indexing.html#returning-a-view-versus-a-copy\n",
      "  \"\"\"\n"
     ]
    }
   ],
   "source": [
    "# by this I get 6 Dec from w 6 Dec \n",
    "\n",
    "for i in range(2,len(dataset['Date'])):\n",
    "    if len(dataset['Date'][i].split()) > 2:\n",
    "        dataset['Date'][i] = dataset['Date'][i][-8:]"
   ]
  },
  {
   "cell_type": "code",
   "execution_count": 60,
   "metadata": {},
   "outputs": [
    {
     "data": {
      "text/plain": [
       "'Sep 2019'"
      ]
     },
     "execution_count": 60,
     "metadata": {},
     "output_type": "execute_result"
    }
   ],
   "source": [
    "dataset['Date'][234]"
   ]
  },
  {
   "cell_type": "code",
   "execution_count": 61,
   "metadata": {},
   "outputs": [
    {
     "data": {
      "text/html": [
       "<div>\n",
       "<style scoped>\n",
       "    .dataframe tbody tr th:only-of-type {\n",
       "        vertical-align: middle;\n",
       "    }\n",
       "\n",
       "    .dataframe tbody tr th {\n",
       "        vertical-align: top;\n",
       "    }\n",
       "\n",
       "    .dataframe thead th {\n",
       "        text-align: right;\n",
       "    }\n",
       "</style>\n",
       "<table border=\"1\" class=\"dataframe\">\n",
       "  <thead>\n",
       "    <tr style=\"text-align: right;\">\n",
       "      <th></th>\n",
       "      <th>Unnamed: 0</th>\n",
       "      <th>Reviewer</th>\n",
       "      <th>Review</th>\n",
       "      <th>Ratings</th>\n",
       "      <th>Date</th>\n",
       "    </tr>\n",
       "  </thead>\n",
       "  <tbody>\n",
       "    <tr>\n",
       "      <th>0</th>\n",
       "      <td>0</td>\n",
       "      <td>tarunsonawat</td>\n",
       "      <td>Amazing, relaxed and a safe trip. The services...</td>\n",
       "      <td>5</td>\n",
       "      <td>Yesterday</td>\n",
       "    </tr>\n",
       "    <tr>\n",
       "      <th>1</th>\n",
       "      <td>1</td>\n",
       "      <td>priyeshvarsolkar</td>\n",
       "      <td>We had great time. We went for our 1st marriag...</td>\n",
       "      <td>5</td>\n",
       "      <td>Yesterday</td>\n",
       "    </tr>\n",
       "    <tr>\n",
       "      <th>2</th>\n",
       "      <td>2</td>\n",
       "      <td>cgganster</td>\n",
       "      <td>We normally stay at the Taj Lands End due to i...</td>\n",
       "      <td>5</td>\n",
       "      <td>7 Dec</td>\n",
       "    </tr>\n",
       "    <tr>\n",
       "      <th>3</th>\n",
       "      <td>3</td>\n",
       "      <td>tanishq2020</td>\n",
       "      <td>Terrible service of restaurant VISTAS , they d...</td>\n",
       "      <td>1</td>\n",
       "      <td>6 Dec</td>\n",
       "    </tr>\n",
       "    <tr>\n",
       "      <th>4</th>\n",
       "      <td>4</td>\n",
       "      <td>CAAshok71</td>\n",
       "      <td>The hotel is located at a very nice place and ...</td>\n",
       "      <td>3</td>\n",
       "      <td>6 Dec</td>\n",
       "    </tr>\n",
       "  </tbody>\n",
       "</table>\n",
       "</div>"
      ],
      "text/plain": [
       "   Unnamed: 0          Reviewer  \\\n",
       "0           0      tarunsonawat   \n",
       "1           1  priyeshvarsolkar   \n",
       "2           2         cgganster   \n",
       "3           3       tanishq2020   \n",
       "4           4         CAAshok71   \n",
       "\n",
       "                                              Review  Ratings       Date  \n",
       "0  Amazing, relaxed and a safe trip. The services...        5  Yesterday  \n",
       "1  We had great time. We went for our 1st marriag...        5  Yesterday  \n",
       "2  We normally stay at the Taj Lands End due to i...        5      7 Dec  \n",
       "3  Terrible service of restaurant VISTAS , they d...        1      6 Dec  \n",
       "4  The hotel is located at a very nice place and ...        3      6 Dec  "
      ]
     },
     "execution_count": 61,
     "metadata": {},
     "output_type": "execute_result"
    }
   ],
   "source": [
    "dataset.head()"
   ]
  },
  {
   "cell_type": "code",
   "execution_count": 62,
   "metadata": {},
   "outputs": [
    {
     "name": "stderr",
     "output_type": "stream",
     "text": [
      "c:\\users\\sonih\\appdata\\local\\programs\\python\\python37\\lib\\site-packages\\ipykernel_launcher.py:6: SettingWithCopyWarning: \n",
      "A value is trying to be set on a copy of a slice from a DataFrame\n",
      "\n",
      "See the caveats in the documentation: https://pandas.pydata.org/pandas-docs/stable/user_guide/indexing.html#returning-a-view-versus-a-copy\n",
      "  \n"
     ]
    }
   ],
   "source": [
    "# by this if len(dataset['Date'].split) > 2 then Dec 2020\n",
    "\n",
    "for i in range(len(dataset['Date'])):\n",
    "    if len(dataset['Date'][i].split()) == 3:\n",
    "        data = dataset['Date'][i].split()\n",
    "        dataset['Date'][i] = data[1] +\" \"+data[2]"
   ]
  },
  {
   "cell_type": "code",
   "execution_count": 63,
   "metadata": {},
   "outputs": [
    {
     "data": {
      "text/html": [
       "<div>\n",
       "<style scoped>\n",
       "    .dataframe tbody tr th:only-of-type {\n",
       "        vertical-align: middle;\n",
       "    }\n",
       "\n",
       "    .dataframe tbody tr th {\n",
       "        vertical-align: top;\n",
       "    }\n",
       "\n",
       "    .dataframe thead th {\n",
       "        text-align: right;\n",
       "    }\n",
       "</style>\n",
       "<table border=\"1\" class=\"dataframe\">\n",
       "  <thead>\n",
       "    <tr style=\"text-align: right;\">\n",
       "      <th></th>\n",
       "      <th>Unnamed: 0</th>\n",
       "      <th>Reviewer</th>\n",
       "      <th>Review</th>\n",
       "      <th>Ratings</th>\n",
       "      <th>Date</th>\n",
       "    </tr>\n",
       "  </thead>\n",
       "  <tbody>\n",
       "    <tr>\n",
       "      <th>0</th>\n",
       "      <td>0</td>\n",
       "      <td>tarunsonawat</td>\n",
       "      <td>Amazing, relaxed and a safe trip. The services...</td>\n",
       "      <td>5</td>\n",
       "      <td>Yesterday</td>\n",
       "    </tr>\n",
       "    <tr>\n",
       "      <th>1</th>\n",
       "      <td>1</td>\n",
       "      <td>priyeshvarsolkar</td>\n",
       "      <td>We had great time. We went for our 1st marriag...</td>\n",
       "      <td>5</td>\n",
       "      <td>Yesterday</td>\n",
       "    </tr>\n",
       "    <tr>\n",
       "      <th>2</th>\n",
       "      <td>2</td>\n",
       "      <td>cgganster</td>\n",
       "      <td>We normally stay at the Taj Lands End due to i...</td>\n",
       "      <td>5</td>\n",
       "      <td>7 Dec</td>\n",
       "    </tr>\n",
       "    <tr>\n",
       "      <th>3</th>\n",
       "      <td>3</td>\n",
       "      <td>tanishq2020</td>\n",
       "      <td>Terrible service of restaurant VISTAS , they d...</td>\n",
       "      <td>1</td>\n",
       "      <td>6 Dec</td>\n",
       "    </tr>\n",
       "    <tr>\n",
       "      <th>4</th>\n",
       "      <td>4</td>\n",
       "      <td>CAAshok71</td>\n",
       "      <td>The hotel is located at a very nice place and ...</td>\n",
       "      <td>3</td>\n",
       "      <td>6 Dec</td>\n",
       "    </tr>\n",
       "  </tbody>\n",
       "</table>\n",
       "</div>"
      ],
      "text/plain": [
       "   Unnamed: 0          Reviewer  \\\n",
       "0           0      tarunsonawat   \n",
       "1           1  priyeshvarsolkar   \n",
       "2           2         cgganster   \n",
       "3           3       tanishq2020   \n",
       "4           4         CAAshok71   \n",
       "\n",
       "                                              Review  Ratings       Date  \n",
       "0  Amazing, relaxed and a safe trip. The services...        5  Yesterday  \n",
       "1  We had great time. We went for our 1st marriag...        5  Yesterday  \n",
       "2  We normally stay at the Taj Lands End due to i...        5      7 Dec  \n",
       "3  Terrible service of restaurant VISTAS , they d...        1      6 Dec  \n",
       "4  The hotel is located at a very nice place and ...        3      6 Dec  "
      ]
     },
     "execution_count": 63,
     "metadata": {},
     "output_type": "execute_result"
    }
   ],
   "source": [
    "dataset.head()"
   ]
  },
  {
   "cell_type": "code",
   "execution_count": 64,
   "metadata": {},
   "outputs": [
    {
     "name": "stderr",
     "output_type": "stream",
     "text": [
      "c:\\users\\sonih\\appdata\\local\\programs\\python\\python37\\lib\\site-packages\\ipykernel_launcher.py:5: SettingWithCopyWarning: \n",
      "A value is trying to be set on a copy of a slice from a DataFrame\n",
      "\n",
      "See the caveats in the documentation: https://pandas.pydata.org/pandas-docs/stable/user_guide/indexing.html#returning-a-view-versus-a-copy\n",
      "  \"\"\"\n"
     ]
    }
   ],
   "source": [
    "# in it I convert yesterday into date\n",
    "\n",
    "for i in range(len(dataset['Date'])):\n",
    "    if dataset['Date'][i] == 'Yesterday':\n",
    "        dataset['Date'][i] = '8 Dec'\n",
    "    "
   ]
  },
  {
   "cell_type": "code",
   "execution_count": 65,
   "metadata": {},
   "outputs": [
    {
     "data": {
      "text/html": [
       "<div>\n",
       "<style scoped>\n",
       "    .dataframe tbody tr th:only-of-type {\n",
       "        vertical-align: middle;\n",
       "    }\n",
       "\n",
       "    .dataframe tbody tr th {\n",
       "        vertical-align: top;\n",
       "    }\n",
       "\n",
       "    .dataframe thead th {\n",
       "        text-align: right;\n",
       "    }\n",
       "</style>\n",
       "<table border=\"1\" class=\"dataframe\">\n",
       "  <thead>\n",
       "    <tr style=\"text-align: right;\">\n",
       "      <th></th>\n",
       "      <th>Unnamed: 0</th>\n",
       "      <th>Reviewer</th>\n",
       "      <th>Review</th>\n",
       "      <th>Ratings</th>\n",
       "      <th>Date</th>\n",
       "    </tr>\n",
       "  </thead>\n",
       "  <tbody>\n",
       "    <tr>\n",
       "      <th>0</th>\n",
       "      <td>0</td>\n",
       "      <td>tarunsonawat</td>\n",
       "      <td>Amazing, relaxed and a safe trip. The services...</td>\n",
       "      <td>5</td>\n",
       "      <td>8 Dec</td>\n",
       "    </tr>\n",
       "    <tr>\n",
       "      <th>1</th>\n",
       "      <td>1</td>\n",
       "      <td>priyeshvarsolkar</td>\n",
       "      <td>We had great time. We went for our 1st marriag...</td>\n",
       "      <td>5</td>\n",
       "      <td>8 Dec</td>\n",
       "    </tr>\n",
       "    <tr>\n",
       "      <th>2</th>\n",
       "      <td>2</td>\n",
       "      <td>cgganster</td>\n",
       "      <td>We normally stay at the Taj Lands End due to i...</td>\n",
       "      <td>5</td>\n",
       "      <td>7 Dec</td>\n",
       "    </tr>\n",
       "    <tr>\n",
       "      <th>3</th>\n",
       "      <td>3</td>\n",
       "      <td>tanishq2020</td>\n",
       "      <td>Terrible service of restaurant VISTAS , they d...</td>\n",
       "      <td>1</td>\n",
       "      <td>6 Dec</td>\n",
       "    </tr>\n",
       "    <tr>\n",
       "      <th>4</th>\n",
       "      <td>4</td>\n",
       "      <td>CAAshok71</td>\n",
       "      <td>The hotel is located at a very nice place and ...</td>\n",
       "      <td>3</td>\n",
       "      <td>6 Dec</td>\n",
       "    </tr>\n",
       "  </tbody>\n",
       "</table>\n",
       "</div>"
      ],
      "text/plain": [
       "   Unnamed: 0          Reviewer  \\\n",
       "0           0      tarunsonawat   \n",
       "1           1  priyeshvarsolkar   \n",
       "2           2         cgganster   \n",
       "3           3       tanishq2020   \n",
       "4           4         CAAshok71   \n",
       "\n",
       "                                              Review  Ratings   Date  \n",
       "0  Amazing, relaxed and a safe trip. The services...        5  8 Dec  \n",
       "1  We had great time. We went for our 1st marriag...        5  8 Dec  \n",
       "2  We normally stay at the Taj Lands End due to i...        5  7 Dec  \n",
       "3  Terrible service of restaurant VISTAS , they d...        1  6 Dec  \n",
       "4  The hotel is located at a very nice place and ...        3  6 Dec  "
      ]
     },
     "execution_count": 65,
     "metadata": {},
     "output_type": "execute_result"
    }
   ],
   "source": [
    "dataset.head()"
   ]
  },
  {
   "cell_type": "code",
   "execution_count": 66,
   "metadata": {},
   "outputs": [
    {
     "data": {
      "text/plain": [
       "'Dec 2020'"
      ]
     },
     "execution_count": 66,
     "metadata": {},
     "output_type": "execute_result"
    }
   ],
   "source": [
    "data = dataset['Date'][0]\n",
    "data[2:]+\" 2020\""
   ]
  },
  {
   "cell_type": "code",
   "execution_count": 67,
   "metadata": {},
   "outputs": [
    {
     "name": "stderr",
     "output_type": "stream",
     "text": [
      "c:\\users\\sonih\\appdata\\local\\programs\\python\\python37\\lib\\site-packages\\ipykernel_launcher.py:5: SettingWithCopyWarning: \n",
      "A value is trying to be set on a copy of a slice from a DataFrame\n",
      "\n",
      "See the caveats in the documentation: https://pandas.pydata.org/pandas-docs/stable/user_guide/indexing.html#returning-a-view-versus-a-copy\n",
      "  \"\"\"\n"
     ]
    }
   ],
   "source": [
    "# first 8 values in date column is like 1 Dec. So, I convert it into Dec 2020\n",
    "\n",
    "for i in range(9):\n",
    "    data = dataset['Date'][i][2:]\n",
    "    dataset['Date'][i] = data+\" 2020\""
   ]
  },
  {
   "cell_type": "code",
   "execution_count": 68,
   "metadata": {},
   "outputs": [
    {
     "data": {
      "text/html": [
       "<div>\n",
       "<style scoped>\n",
       "    .dataframe tbody tr th:only-of-type {\n",
       "        vertical-align: middle;\n",
       "    }\n",
       "\n",
       "    .dataframe tbody tr th {\n",
       "        vertical-align: top;\n",
       "    }\n",
       "\n",
       "    .dataframe thead th {\n",
       "        text-align: right;\n",
       "    }\n",
       "</style>\n",
       "<table border=\"1\" class=\"dataframe\">\n",
       "  <thead>\n",
       "    <tr style=\"text-align: right;\">\n",
       "      <th></th>\n",
       "      <th>Unnamed: 0</th>\n",
       "      <th>Reviewer</th>\n",
       "      <th>Review</th>\n",
       "      <th>Ratings</th>\n",
       "      <th>Date</th>\n",
       "    </tr>\n",
       "  </thead>\n",
       "  <tbody>\n",
       "    <tr>\n",
       "      <th>0</th>\n",
       "      <td>0</td>\n",
       "      <td>tarunsonawat</td>\n",
       "      <td>Amazing, relaxed and a safe trip. The services...</td>\n",
       "      <td>5</td>\n",
       "      <td>Dec 2020</td>\n",
       "    </tr>\n",
       "    <tr>\n",
       "      <th>1</th>\n",
       "      <td>1</td>\n",
       "      <td>priyeshvarsolkar</td>\n",
       "      <td>We had great time. We went for our 1st marriag...</td>\n",
       "      <td>5</td>\n",
       "      <td>Dec 2020</td>\n",
       "    </tr>\n",
       "    <tr>\n",
       "      <th>2</th>\n",
       "      <td>2</td>\n",
       "      <td>cgganster</td>\n",
       "      <td>We normally stay at the Taj Lands End due to i...</td>\n",
       "      <td>5</td>\n",
       "      <td>Dec 2020</td>\n",
       "    </tr>\n",
       "    <tr>\n",
       "      <th>3</th>\n",
       "      <td>3</td>\n",
       "      <td>tanishq2020</td>\n",
       "      <td>Terrible service of restaurant VISTAS , they d...</td>\n",
       "      <td>1</td>\n",
       "      <td>Dec 2020</td>\n",
       "    </tr>\n",
       "    <tr>\n",
       "      <th>4</th>\n",
       "      <td>4</td>\n",
       "      <td>CAAshok71</td>\n",
       "      <td>The hotel is located at a very nice place and ...</td>\n",
       "      <td>3</td>\n",
       "      <td>Dec 2020</td>\n",
       "    </tr>\n",
       "  </tbody>\n",
       "</table>\n",
       "</div>"
      ],
      "text/plain": [
       "   Unnamed: 0          Reviewer  \\\n",
       "0           0      tarunsonawat   \n",
       "1           1  priyeshvarsolkar   \n",
       "2           2         cgganster   \n",
       "3           3       tanishq2020   \n",
       "4           4         CAAshok71   \n",
       "\n",
       "                                              Review  Ratings      Date  \n",
       "0  Amazing, relaxed and a safe trip. The services...        5  Dec 2020  \n",
       "1  We had great time. We went for our 1st marriag...        5  Dec 2020  \n",
       "2  We normally stay at the Taj Lands End due to i...        5  Dec 2020  \n",
       "3  Terrible service of restaurant VISTAS , they d...        1  Dec 2020  \n",
       "4  The hotel is located at a very nice place and ...        3  Dec 2020  "
      ]
     },
     "execution_count": 68,
     "metadata": {},
     "output_type": "execute_result"
    }
   ],
   "source": [
    "dataset.head()"
   ]
  },
  {
   "cell_type": "code",
   "execution_count": 69,
   "metadata": {},
   "outputs": [],
   "source": [
    "month = []\n",
    "year = []\n",
    "\n",
    "for i in range(len(dataset['Date'])):\n",
    "    data = dataset['Date'][i].split()\n",
    "    month.append(data[0])\n",
    "    year.append(data[1])\n",
    "    \n",
    "dataset['Review_Month'] = month\n",
    "dataset['Review_Year'] = year"
   ]
  },
  {
   "cell_type": "code",
   "execution_count": 70,
   "metadata": {},
   "outputs": [
    {
     "data": {
      "text/html": [
       "<div>\n",
       "<style scoped>\n",
       "    .dataframe tbody tr th:only-of-type {\n",
       "        vertical-align: middle;\n",
       "    }\n",
       "\n",
       "    .dataframe tbody tr th {\n",
       "        vertical-align: top;\n",
       "    }\n",
       "\n",
       "    .dataframe thead th {\n",
       "        text-align: right;\n",
       "    }\n",
       "</style>\n",
       "<table border=\"1\" class=\"dataframe\">\n",
       "  <thead>\n",
       "    <tr style=\"text-align: right;\">\n",
       "      <th></th>\n",
       "      <th>Reviewer</th>\n",
       "      <th>Review</th>\n",
       "      <th>Ratings</th>\n",
       "      <th>Date</th>\n",
       "      <th>Review_Month</th>\n",
       "      <th>Review_Year</th>\n",
       "    </tr>\n",
       "  </thead>\n",
       "  <tbody>\n",
       "    <tr>\n",
       "      <th>0</th>\n",
       "      <td>tarunsonawat</td>\n",
       "      <td>Amazing, relaxed and a safe trip. The services...</td>\n",
       "      <td>5</td>\n",
       "      <td>Dec 2020</td>\n",
       "      <td>Dec</td>\n",
       "      <td>2020</td>\n",
       "    </tr>\n",
       "    <tr>\n",
       "      <th>1</th>\n",
       "      <td>priyeshvarsolkar</td>\n",
       "      <td>We had great time. We went for our 1st marriag...</td>\n",
       "      <td>5</td>\n",
       "      <td>Dec 2020</td>\n",
       "      <td>Dec</td>\n",
       "      <td>2020</td>\n",
       "    </tr>\n",
       "    <tr>\n",
       "      <th>2</th>\n",
       "      <td>cgganster</td>\n",
       "      <td>We normally stay at the Taj Lands End due to i...</td>\n",
       "      <td>5</td>\n",
       "      <td>Dec 2020</td>\n",
       "      <td>Dec</td>\n",
       "      <td>2020</td>\n",
       "    </tr>\n",
       "    <tr>\n",
       "      <th>3</th>\n",
       "      <td>tanishq2020</td>\n",
       "      <td>Terrible service of restaurant VISTAS , they d...</td>\n",
       "      <td>1</td>\n",
       "      <td>Dec 2020</td>\n",
       "      <td>Dec</td>\n",
       "      <td>2020</td>\n",
       "    </tr>\n",
       "    <tr>\n",
       "      <th>4</th>\n",
       "      <td>CAAshok71</td>\n",
       "      <td>The hotel is located at a very nice place and ...</td>\n",
       "      <td>3</td>\n",
       "      <td>Dec 2020</td>\n",
       "      <td>Dec</td>\n",
       "      <td>2020</td>\n",
       "    </tr>\n",
       "  </tbody>\n",
       "</table>\n",
       "</div>"
      ],
      "text/plain": [
       "           Reviewer                                             Review  \\\n",
       "0      tarunsonawat  Amazing, relaxed and a safe trip. The services...   \n",
       "1  priyeshvarsolkar  We had great time. We went for our 1st marriag...   \n",
       "2         cgganster  We normally stay at the Taj Lands End due to i...   \n",
       "3       tanishq2020  Terrible service of restaurant VISTAS , they d...   \n",
       "4         CAAshok71  The hotel is located at a very nice place and ...   \n",
       "\n",
       "   Ratings      Date Review_Month Review_Year  \n",
       "0        5  Dec 2020          Dec        2020  \n",
       "1        5  Dec 2020          Dec        2020  \n",
       "2        5  Dec 2020          Dec        2020  \n",
       "3        1  Dec 2020          Dec        2020  \n",
       "4        3  Dec 2020          Dec        2020  "
      ]
     },
     "execution_count": 70,
     "metadata": {},
     "output_type": "execute_result"
    }
   ],
   "source": [
    "dataset.drop(['Unnamed: 0'], axis=1, inplace=True)\n",
    "dataset.head()"
   ]
  },
  {
   "cell_type": "code",
   "execution_count": 71,
   "metadata": {},
   "outputs": [],
   "source": [
    "dataset['Polarity_Rating'] = dataset['Ratings'].apply(lambda x: 'Positive' if x > 3 else('Neutral' if x == 3  else 'Negative'))"
   ]
  },
  {
   "cell_type": "code",
   "execution_count": 72,
   "metadata": {},
   "outputs": [
    {
     "data": {
      "text/html": [
       "<div>\n",
       "<style scoped>\n",
       "    .dataframe tbody tr th:only-of-type {\n",
       "        vertical-align: middle;\n",
       "    }\n",
       "\n",
       "    .dataframe tbody tr th {\n",
       "        vertical-align: top;\n",
       "    }\n",
       "\n",
       "    .dataframe thead th {\n",
       "        text-align: right;\n",
       "    }\n",
       "</style>\n",
       "<table border=\"1\" class=\"dataframe\">\n",
       "  <thead>\n",
       "    <tr style=\"text-align: right;\">\n",
       "      <th></th>\n",
       "      <th>Reviewer</th>\n",
       "      <th>Review</th>\n",
       "      <th>Ratings</th>\n",
       "      <th>Date</th>\n",
       "      <th>Review_Month</th>\n",
       "      <th>Review_Year</th>\n",
       "      <th>Polarity_Rating</th>\n",
       "    </tr>\n",
       "  </thead>\n",
       "  <tbody>\n",
       "    <tr>\n",
       "      <th>0</th>\n",
       "      <td>tarunsonawat</td>\n",
       "      <td>Amazing, relaxed and a safe trip. The services...</td>\n",
       "      <td>5</td>\n",
       "      <td>Dec 2020</td>\n",
       "      <td>Dec</td>\n",
       "      <td>2020</td>\n",
       "      <td>Positive</td>\n",
       "    </tr>\n",
       "    <tr>\n",
       "      <th>1</th>\n",
       "      <td>priyeshvarsolkar</td>\n",
       "      <td>We had great time. We went for our 1st marriag...</td>\n",
       "      <td>5</td>\n",
       "      <td>Dec 2020</td>\n",
       "      <td>Dec</td>\n",
       "      <td>2020</td>\n",
       "      <td>Positive</td>\n",
       "    </tr>\n",
       "    <tr>\n",
       "      <th>2</th>\n",
       "      <td>cgganster</td>\n",
       "      <td>We normally stay at the Taj Lands End due to i...</td>\n",
       "      <td>5</td>\n",
       "      <td>Dec 2020</td>\n",
       "      <td>Dec</td>\n",
       "      <td>2020</td>\n",
       "      <td>Positive</td>\n",
       "    </tr>\n",
       "    <tr>\n",
       "      <th>3</th>\n",
       "      <td>tanishq2020</td>\n",
       "      <td>Terrible service of restaurant VISTAS , they d...</td>\n",
       "      <td>1</td>\n",
       "      <td>Dec 2020</td>\n",
       "      <td>Dec</td>\n",
       "      <td>2020</td>\n",
       "      <td>Negative</td>\n",
       "    </tr>\n",
       "    <tr>\n",
       "      <th>4</th>\n",
       "      <td>CAAshok71</td>\n",
       "      <td>The hotel is located at a very nice place and ...</td>\n",
       "      <td>3</td>\n",
       "      <td>Dec 2020</td>\n",
       "      <td>Dec</td>\n",
       "      <td>2020</td>\n",
       "      <td>Neutral</td>\n",
       "    </tr>\n",
       "  </tbody>\n",
       "</table>\n",
       "</div>"
      ],
      "text/plain": [
       "           Reviewer                                             Review  \\\n",
       "0      tarunsonawat  Amazing, relaxed and a safe trip. The services...   \n",
       "1  priyeshvarsolkar  We had great time. We went for our 1st marriag...   \n",
       "2         cgganster  We normally stay at the Taj Lands End due to i...   \n",
       "3       tanishq2020  Terrible service of restaurant VISTAS , they d...   \n",
       "4         CAAshok71  The hotel is located at a very nice place and ...   \n",
       "\n",
       "   Ratings      Date Review_Month Review_Year Polarity_Rating  \n",
       "0        5  Dec 2020          Dec        2020        Positive  \n",
       "1        5  Dec 2020          Dec        2020        Positive  \n",
       "2        5  Dec 2020          Dec        2020        Positive  \n",
       "3        1  Dec 2020          Dec        2020        Negative  \n",
       "4        3  Dec 2020          Dec        2020         Neutral  "
      ]
     },
     "execution_count": 72,
     "metadata": {},
     "output_type": "execute_result"
    }
   ],
   "source": [
    "dataset.head()"
   ]
  },
  {
   "cell_type": "markdown",
   "metadata": {},
   "source": [
    "## Visualization"
   ]
  },
  {
   "cell_type": "code",
   "execution_count": 73,
   "metadata": {},
   "outputs": [
    {
     "data": {
      "text/plain": [
       "<AxesSubplot:xlabel='Ratings', ylabel='count'>"
      ]
     },
     "execution_count": 73,
     "metadata": {},
     "output_type": "execute_result"
    },
    {
     "data": {
      "image/png": "[encoded data removed]",
      "text/plain": [
       "<Figure size 432x288 with 1 Axes>"
      ]
     },
     "metadata": {},
     "output_type": "display_data"
    }
   ],
   "source": [
    "sns.set_style('whitegrid')\n",
    "sns.countplot(x='Ratings',data=dataset, palette='YlGnBu_r')"
   ]
  },
  {
   "cell_type": "code",
   "execution_count": 74,
   "metadata": {},
   "outputs": [
    {
     "data": {
      "text/plain": [
       "<AxesSubplot:xlabel='Polarity_Rating', ylabel='count'>"
      ]
     },
     "execution_count": 74,
     "metadata": {},
     "output_type": "execute_result"
    },
    {
     "data": {
      "image/png": "[encoded data removed]",
      "text/plain": [
       "<Figure size 432x288 with 1 Axes>"
      ]
     },
     "metadata": {},
     "output_type": "display_data"
    }
   ],
   "source": [
    "sns.set_style('whitegrid')\n",
    "sns.countplot(x='Polarity_Rating',data=dataset, palette='summer')"
   ]
  },
  {
   "cell_type": "code",
   "execution_count": 75,
   "metadata": {},
   "outputs": [
    {
     "name": "stderr",
     "output_type": "stream",
     "text": [
      "c:\\users\\sonih\\appdata\\local\\programs\\python\\python37\\lib\\site-packages\\seaborn\\_decorators.py:43: FutureWarning: Pass the following variable as a keyword arg: x. From version 0.12, the only valid positional argument will be `data`, and passing other arguments without an explicit keyword will result in an error or misinterpretation.\n",
      "  FutureWarning\n"
     ]
    },
    {
     "data": {
      "image/png": "[encoded data removed]",
      "text/plain": [
       "<Figure size 1440x1440 with 1 Axes>"
      ]
     },
     "metadata": {},
     "output_type": "display_data"
    }
   ],
   "source": [
    "plt.figure(figsize=(20,20))\n",
    "sns.set_style('whitegrid')\n",
    "sns.countplot(dataset['Review_Year'] ,data=dataset, palette='summer')\n",
    "plt.show()"
   ]
  },
  {
   "cell_type": "code",
   "execution_count": 76,
   "metadata": {},
   "outputs": [
    {
     "name": "stderr",
     "output_type": "stream",
     "text": [
      "c:\\users\\sonih\\appdata\\local\\programs\\python\\python37\\lib\\site-packages\\seaborn\\_decorators.py:43: FutureWarning: Pass the following variable as a keyword arg: x. From version 0.12, the only valid positional argument will be `data`, and passing other arguments without an explicit keyword will result in an error or misinterpretation.\n",
      "  FutureWarning\n"
     ]
    },
    {
     "data": {
      "image/png": "[encoded data removed]",
      "text/plain": [
       "<Figure size 1440x1440 with 1 Axes>"
      ]
     },
     "metadata": {},
     "output_type": "display_data"
    }
   ],
   "source": [
    "plt.figure(figsize=(20,20))\n",
    "sns.set_style('whitegrid')\n",
    "sns.countplot(dataset['Review_Month'] ,data=dataset, palette='summer')\n",
    "plt.show()"
   ]
  },
  {
   "cell_type": "markdown",
   "metadata": {},
   "source": [
    "## Data Preprocessing"
   ]
  },
  {
   "cell_type": "code",
   "execution_count": 77,
   "metadata": {},
   "outputs": [],
   "source": [
    "dataset_Positive = dataset[dataset['Polarity_Rating'] == 'Positive'][0:500]\n",
    "dataset_Neutral = dataset[dataset['Polarity_Rating'] == 'Neutral']\n",
    "dataset_Negative = dataset[dataset['Polarity_Rating'] == 'Negative']"
   ]
  },
  {
   "cell_type": "markdown",
   "metadata": {},
   "source": [
    "### Sample negative and neutral dataset and create a final dataset:"
   ]
  },
  {
   "cell_type": "code",
   "execution_count": 78,
   "metadata": {},
   "outputs": [],
   "source": [
    "dataset_Neutral_over = dataset_Neutral.sample(500, replace=True)\n",
    "dataset_Negative_over = dataset_Negative.sample(500, replace=True)\n",
    "dataset = pd.concat([dataset_Positive, dataset_Neutral_over, dataset_Negative_over], axis=0)"
   ]
  },
  {
   "cell_type": "code",
   "execution_count": 79,
   "metadata": {},
   "outputs": [
    {
     "data": {
      "text/html": [
       "<div>\n",
       "<style scoped>\n",
       "    .dataframe tbody tr th:only-of-type {\n",
       "        vertical-align: middle;\n",
       "    }\n",
       "\n",
       "    .dataframe tbody tr th {\n",
       "        vertical-align: top;\n",
       "    }\n",
       "\n",
       "    .dataframe thead th {\n",
       "        text-align: right;\n",
       "    }\n",
       "</style>\n",
       "<table border=\"1\" class=\"dataframe\">\n",
       "  <thead>\n",
       "    <tr style=\"text-align: right;\">\n",
       "      <th></th>\n",
       "      <th>Reviewer</th>\n",
       "      <th>Review</th>\n",
       "      <th>Ratings</th>\n",
       "      <th>Date</th>\n",
       "      <th>Review_Month</th>\n",
       "      <th>Review_Year</th>\n",
       "      <th>Polarity_Rating</th>\n",
       "    </tr>\n",
       "  </thead>\n",
       "  <tbody>\n",
       "    <tr>\n",
       "      <th>0</th>\n",
       "      <td>tarunsonawat</td>\n",
       "      <td>Amazing, relaxed and a safe trip. The services...</td>\n",
       "      <td>5</td>\n",
       "      <td>Dec 2020</td>\n",
       "      <td>Dec</td>\n",
       "      <td>2020</td>\n",
       "      <td>Positive</td>\n",
       "    </tr>\n",
       "    <tr>\n",
       "      <th>1</th>\n",
       "      <td>priyeshvarsolkar</td>\n",
       "      <td>We had great time. We went for our 1st marriag...</td>\n",
       "      <td>5</td>\n",
       "      <td>Dec 2020</td>\n",
       "      <td>Dec</td>\n",
       "      <td>2020</td>\n",
       "      <td>Positive</td>\n",
       "    </tr>\n",
       "    <tr>\n",
       "      <th>2</th>\n",
       "      <td>cgganster</td>\n",
       "      <td>We normally stay at the Taj Lands End due to i...</td>\n",
       "      <td>5</td>\n",
       "      <td>Dec 2020</td>\n",
       "      <td>Dec</td>\n",
       "      <td>2020</td>\n",
       "      <td>Positive</td>\n",
       "    </tr>\n",
       "    <tr>\n",
       "      <th>5</th>\n",
       "      <td>ANGATraveen</td>\n",
       "      <td>The hotel is pretty good... amazingly located....</td>\n",
       "      <td>5</td>\n",
       "      <td>Dec 2020</td>\n",
       "      <td>Dec</td>\n",
       "      <td>2020</td>\n",
       "      <td>Positive</td>\n",
       "    </tr>\n",
       "    <tr>\n",
       "      <th>6</th>\n",
       "      <td>Sarosh</td>\n",
       "      <td>Wonderful experience, the staff is excellent a...</td>\n",
       "      <td>5</td>\n",
       "      <td>Dec 2020</td>\n",
       "      <td>Dec</td>\n",
       "      <td>2020</td>\n",
       "      <td>Positive</td>\n",
       "    </tr>\n",
       "  </tbody>\n",
       "</table>\n",
       "</div>"
      ],
      "text/plain": [
       "           Reviewer                                             Review  \\\n",
       "0      tarunsonawat  Amazing, relaxed and a safe trip. The services...   \n",
       "1  priyeshvarsolkar  We had great time. We went for our 1st marriag...   \n",
       "2         cgganster  We normally stay at the Taj Lands End due to i...   \n",
       "5       ANGATraveen  The hotel is pretty good... amazingly located....   \n",
       "6            Sarosh  Wonderful experience, the staff is excellent a...   \n",
       "\n",
       "   Ratings      Date Review_Month Review_Year Polarity_Rating  \n",
       "0        5  Dec 2020          Dec        2020        Positive  \n",
       "1        5  Dec 2020          Dec        2020        Positive  \n",
       "2        5  Dec 2020          Dec        2020        Positive  \n",
       "5        5  Dec 2020          Dec        2020        Positive  \n",
       "6        5  Dec 2020          Dec        2020        Positive  "
      ]
     },
     "execution_count": 79,
     "metadata": {},
     "output_type": "execute_result"
    }
   ],
   "source": [
    "dataset.head()"
   ]
  },
  {
   "cell_type": "markdown",
   "metadata": {},
   "source": [
    "## Text Processing"
   ]
  },
  {
   "cell_type": "code",
   "execution_count": 80,
   "metadata": {},
   "outputs": [],
   "source": [
    "def get_text_processing(text):\n",
    "    stpword = stopwords.words('english')\n",
    "    no_punctuation = [char for char in text if char not in string.punctuation]\n",
    "    no_punctuation = ''.join(no_punctuation)\n",
    "    return ' '.join([word for word in no_punctuation.split() if word.lower() not in stpword])"
   ]
  },
  {
   "cell_type": "code",
   "execution_count": 81,
   "metadata": {},
   "outputs": [],
   "source": [
    "from nltk.stem import LancasterStemmer, SnowballStemmer, PorterStemmer"
   ]
  },
  {
   "cell_type": "code",
   "execution_count": 28,
   "metadata": {},
   "outputs": [],
   "source": [
    "lancaster = LancasterStemmer()\n",
    "porter = PorterStemmer()\n",
    "Snowball = SnowballStemmer(\"english\")"
   ]
  },
  {
   "cell_type": "code",
   "execution_count": 82,
   "metadata": {},
   "outputs": [
    {
     "data": {
      "text/html": [
       "<div>\n",
       "<style scoped>\n",
       "    .dataframe tbody tr th:only-of-type {\n",
       "        vertical-align: middle;\n",
       "    }\n",
       "\n",
       "    .dataframe tbody tr th {\n",
       "        vertical-align: top;\n",
       "    }\n",
       "\n",
       "    .dataframe thead th {\n",
       "        text-align: right;\n",
       "    }\n",
       "</style>\n",
       "<table border=\"1\" class=\"dataframe\">\n",
       "  <thead>\n",
       "    <tr style=\"text-align: right;\">\n",
       "      <th></th>\n",
       "      <th>Reviewer</th>\n",
       "      <th>Review</th>\n",
       "      <th>Ratings</th>\n",
       "      <th>Date</th>\n",
       "      <th>Review_Month</th>\n",
       "      <th>Review_Year</th>\n",
       "      <th>Polarity_Rating</th>\n",
       "      <th>Review Text</th>\n",
       "    </tr>\n",
       "  </thead>\n",
       "  <tbody>\n",
       "    <tr>\n",
       "      <th>0</th>\n",
       "      <td>tarunsonawat</td>\n",
       "      <td>Amazing, relaxed and a safe trip. The services...</td>\n",
       "      <td>5</td>\n",
       "      <td>Dec 2020</td>\n",
       "      <td>Dec</td>\n",
       "      <td>2020</td>\n",
       "      <td>Positive</td>\n",
       "      <td>Amazing relaxed safe trip services good staff ...</td>\n",
       "    </tr>\n",
       "    <tr>\n",
       "      <th>1</th>\n",
       "      <td>priyeshvarsolkar</td>\n",
       "      <td>We had great time. We went for our 1st marriag...</td>\n",
       "      <td>5</td>\n",
       "      <td>Dec 2020</td>\n",
       "      <td>Dec</td>\n",
       "      <td>2020</td>\n",
       "      <td>Positive</td>\n",
       "      <td>great time went 1st marriage anniversary great...</td>\n",
       "    </tr>\n",
       "    <tr>\n",
       "      <th>2</th>\n",
       "      <td>cgganster</td>\n",
       "      <td>We normally stay at the Taj Lands End due to i...</td>\n",
       "      <td>5</td>\n",
       "      <td>Dec 2020</td>\n",
       "      <td>Dec</td>\n",
       "      <td>2020</td>\n",
       "      <td>Positive</td>\n",
       "      <td>normally stay Taj Lands End due location Bandr...</td>\n",
       "    </tr>\n",
       "    <tr>\n",
       "      <th>5</th>\n",
       "      <td>ANGATraveen</td>\n",
       "      <td>The hotel is pretty good... amazingly located....</td>\n",
       "      <td>5</td>\n",
       "      <td>Dec 2020</td>\n",
       "      <td>Dec</td>\n",
       "      <td>2020</td>\n",
       "      <td>Positive</td>\n",
       "      <td>hotel pretty good amazingly located Quite easy...</td>\n",
       "    </tr>\n",
       "    <tr>\n",
       "      <th>6</th>\n",
       "      <td>Sarosh</td>\n",
       "      <td>Wonderful experience, the staff is excellent a...</td>\n",
       "      <td>5</td>\n",
       "      <td>Dec 2020</td>\n",
       "      <td>Dec</td>\n",
       "      <td>2020</td>\n",
       "      <td>Positive</td>\n",
       "      <td>Wonderful experience staff excellent polite ev...</td>\n",
       "    </tr>\n",
       "  </tbody>\n",
       "</table>\n",
       "</div>"
      ],
      "text/plain": [
       "           Reviewer                                             Review  \\\n",
       "0      tarunsonawat  Amazing, relaxed and a safe trip. The services...   \n",
       "1  priyeshvarsolkar  We had great time. We went for our 1st marriag...   \n",
       "2         cgganster  We normally stay at the Taj Lands End due to i...   \n",
       "5       ANGATraveen  The hotel is pretty good... amazingly located....   \n",
       "6            Sarosh  Wonderful experience, the staff is excellent a...   \n",
       "\n",
       "   Ratings      Date Review_Month Review_Year Polarity_Rating  \\\n",
       "0        5  Dec 2020          Dec        2020        Positive   \n",
       "1        5  Dec 2020          Dec        2020        Positive   \n",
       "2        5  Dec 2020          Dec        2020        Positive   \n",
       "5        5  Dec 2020          Dec        2020        Positive   \n",
       "6        5  Dec 2020          Dec        2020        Positive   \n",
       "\n",
       "                                         Review Text  \n",
       "0  Amazing relaxed safe trip services good staff ...  \n",
       "1  great time went 1st marriage anniversary great...  \n",
       "2  normally stay Taj Lands End due location Bandr...  \n",
       "5  hotel pretty good amazingly located Quite easy...  \n",
       "6  Wonderful experience staff excellent polite ev...  "
      ]
     },
     "execution_count": 82,
     "metadata": {},
     "output_type": "execute_result"
    }
   ],
   "source": [
    "dataset['Review Text'] = dataset['Review'].apply(get_text_processing)\n",
    "dataset.head()"
   ]
  },
  {
   "cell_type": "code",
   "execution_count": 83,
   "metadata": {},
   "outputs": [
    {
     "data": {
      "text/html": [
       "<div>\n",
       "<style scoped>\n",
       "    .dataframe tbody tr th:only-of-type {\n",
       "        vertical-align: middle;\n",
       "    }\n",
       "\n",
       "    .dataframe tbody tr th {\n",
       "        vertical-align: top;\n",
       "    }\n",
       "\n",
       "    .dataframe thead th {\n",
       "        text-align: right;\n",
       "    }\n",
       "</style>\n",
       "<table border=\"1\" class=\"dataframe\">\n",
       "  <thead>\n",
       "    <tr style=\"text-align: right;\">\n",
       "      <th></th>\n",
       "      <th>Review Text</th>\n",
       "      <th>Polarity_Rating</th>\n",
       "    </tr>\n",
       "  </thead>\n",
       "  <tbody>\n",
       "    <tr>\n",
       "      <th>0</th>\n",
       "      <td>Amazing relaxed safe trip services good staff ...</td>\n",
       "      <td>Positive</td>\n",
       "    </tr>\n",
       "    <tr>\n",
       "      <th>1</th>\n",
       "      <td>great time went 1st marriage anniversary great...</td>\n",
       "      <td>Positive</td>\n",
       "    </tr>\n",
       "    <tr>\n",
       "      <th>2</th>\n",
       "      <td>normally stay Taj Lands End due location Bandr...</td>\n",
       "      <td>Positive</td>\n",
       "    </tr>\n",
       "    <tr>\n",
       "      <th>5</th>\n",
       "      <td>hotel pretty good amazingly located Quite easy...</td>\n",
       "      <td>Positive</td>\n",
       "    </tr>\n",
       "    <tr>\n",
       "      <th>6</th>\n",
       "      <td>Wonderful experience staff excellent polite ev...</td>\n",
       "      <td>Positive</td>\n",
       "    </tr>\n",
       "  </tbody>\n",
       "</table>\n",
       "</div>"
      ],
      "text/plain": [
       "                                         Review Text Polarity_Rating\n",
       "0  Amazing relaxed safe trip services good staff ...        Positive\n",
       "1  great time went 1st marriage anniversary great...        Positive\n",
       "2  normally stay Taj Lands End due location Bandr...        Positive\n",
       "5  hotel pretty good amazingly located Quite easy...        Positive\n",
       "6  Wonderful experience staff excellent polite ev...        Positive"
      ]
     },
     "execution_count": 83,
     "metadata": {},
     "output_type": "execute_result"
    }
   ],
   "source": [
    "final_data = dataset[['Review Text','Polarity_Rating']]\n",
    "final_data.head()"
   ]
  },
  {
   "cell_type": "code",
   "execution_count": 99,
   "metadata": {},
   "outputs": [
    {
     "ename": "TypeError",
     "evalue": "unhashable type: 'set'",
     "output_type": "error",
     "traceback": [
      "\u001b[1;31m---------------------------------------------------------------------------\u001b[0m",
      "\u001b[1;31mTypeError\u001b[0m                                 Traceback (most recent call last)",
      "\u001b[1;32m<ipython-input-99-c0003c11abcf>\u001b[0m in \u001b[0;36m<module>\u001b[1;34m\u001b[0m\n\u001b[1;32m----> 1\u001b[1;33m \u001b[0mdataset\u001b[0m\u001b[1;33m[\u001b[0m\u001b[1;34m'Review Text'\u001b[0m\u001b[1;33m]\u001b[0m\u001b[1;33m[\u001b[0m\u001b[1;36m3\u001b[0m\u001b[1;33m]\u001b[0m \u001b[1;33m=\u001b[0m \u001b[0mstr\u001b[0m\u001b[1;33m(\u001b[0m\u001b[0mset\u001b[0m\u001b[1;33m(\u001b[0m\u001b[0mdataset\u001b[0m\u001b[1;33m[\u001b[0m\u001b[1;34m'Review Text'\u001b[0m\u001b[1;33m]\u001b[0m\u001b[1;33m[\u001b[0m\u001b[1;36m3\u001b[0m\u001b[1;33m]\u001b[0m\u001b[1;33m)\u001b[0m\u001b[1;33m)\u001b[0m\u001b[1;33m\u001b[0m\u001b[1;33m\u001b[0m\u001b[0m\n\u001b[0m",
      "\u001b[1;31mTypeError\u001b[0m: unhashable type: 'set'"
     ]
    }
   ],
   "source": [
    "dataset['Review Text'][3] = set(dataset['Review Text'][3])"
   ]
  },
  {
   "cell_type": "code",
   "execution_count": 34,
   "metadata": {},
   "outputs": [],
   "source": [
    "darasetSet = set()\n",
    "datasetSet = dataset['Review Text']\n"
   ]
  },
  {
   "cell_type": "code",
   "execution_count": 100,
   "metadata": {},
   "outputs": [
    {
     "data": {
      "text/plain": [
       "3    {Terrible service restaurant VISTAS dont know ...\n",
       "3    {Terrible service restaurant VISTAS dont know ...\n",
       "3    {Terrible service restaurant VISTAS dont know ...\n",
       "3    {Terrible service restaurant VISTAS dont know ...\n",
       "3    {Terrible service restaurant VISTAS dont know ...\n",
       "Name: Review Text, dtype: object"
      ]
     },
     "execution_count": 100,
     "metadata": {},
     "output_type": "execute_result"
    }
   ],
   "source": [
    "dataset['Review Text'][3]"
   ]
  },
  {
   "cell_type": "code",
   "execution_count": 102,
   "metadata": {},
   "outputs": [
    {
     "data": {
      "text/html": [
       "<div>\n",
       "<style scoped>\n",
       "    .dataframe tbody tr th:only-of-type {\n",
       "        vertical-align: middle;\n",
       "    }\n",
       "\n",
       "    .dataframe tbody tr th {\n",
       "        vertical-align: top;\n",
       "    }\n",
       "\n",
       "    .dataframe thead th {\n",
       "        text-align: right;\n",
       "    }\n",
       "</style>\n",
       "<table border=\"1\" class=\"dataframe\">\n",
       "  <thead>\n",
       "    <tr style=\"text-align: right;\">\n",
       "      <th></th>\n",
       "      <th>Reviewer</th>\n",
       "      <th>Review</th>\n",
       "      <th>Ratings</th>\n",
       "      <th>Date</th>\n",
       "      <th>Review_Month</th>\n",
       "      <th>Review_Year</th>\n",
       "      <th>Polarity_Rating</th>\n",
       "      <th>Review Text</th>\n",
       "    </tr>\n",
       "  </thead>\n",
       "  <tbody>\n",
       "    <tr>\n",
       "      <th>0</th>\n",
       "      <td>tarunsonawat</td>\n",
       "      <td>Amazing, relaxed and a safe trip. The services...</td>\n",
       "      <td>5</td>\n",
       "      <td>Dec 2020</td>\n",
       "      <td>Dec</td>\n",
       "      <td>2020</td>\n",
       "      <td>Positive</td>\n",
       "      <td>Amazing relaxed safe trip services good staff ...</td>\n",
       "    </tr>\n",
       "    <tr>\n",
       "      <th>1</th>\n",
       "      <td>priyeshvarsolkar</td>\n",
       "      <td>We had great time. We went for our 1st marriag...</td>\n",
       "      <td>5</td>\n",
       "      <td>Dec 2020</td>\n",
       "      <td>Dec</td>\n",
       "      <td>2020</td>\n",
       "      <td>Positive</td>\n",
       "      <td>great time went 1st marriage anniversary great...</td>\n",
       "    </tr>\n",
       "    <tr>\n",
       "      <th>2</th>\n",
       "      <td>cgganster</td>\n",
       "      <td>We normally stay at the Taj Lands End due to i...</td>\n",
       "      <td>5</td>\n",
       "      <td>Dec 2020</td>\n",
       "      <td>Dec</td>\n",
       "      <td>2020</td>\n",
       "      <td>Positive</td>\n",
       "      <td>normally stay Taj Lands End due location Bandr...</td>\n",
       "    </tr>\n",
       "    <tr>\n",
       "      <th>3</th>\n",
       "      <td>tanishq2020</td>\n",
       "      <td>Terrible service of restaurant VISTAS , they d...</td>\n",
       "      <td>1</td>\n",
       "      <td>Dec 2020</td>\n",
       "      <td>Dec</td>\n",
       "      <td>2020</td>\n",
       "      <td>Negative</td>\n",
       "      <td>{Terrible service restaurant VISTAS dont know ...</td>\n",
       "    </tr>\n",
       "    <tr>\n",
       "      <th>3</th>\n",
       "      <td>tanishq2020</td>\n",
       "      <td>Terrible service of restaurant VISTAS , they d...</td>\n",
       "      <td>1</td>\n",
       "      <td>Dec 2020</td>\n",
       "      <td>Dec</td>\n",
       "      <td>2020</td>\n",
       "      <td>Negative</td>\n",
       "      <td>{Terrible service restaurant VISTAS dont know ...</td>\n",
       "    </tr>\n",
       "    <tr>\n",
       "      <th>...</th>\n",
       "      <td>...</td>\n",
       "      <td>...</td>\n",
       "      <td>...</td>\n",
       "      <td>...</td>\n",
       "      <td>...</td>\n",
       "      <td>...</td>\n",
       "      <td>...</td>\n",
       "      <td>...</td>\n",
       "    </tr>\n",
       "    <tr>\n",
       "      <th>4640</th>\n",
       "      <td>SugarWahine</td>\n",
       "      <td>Just finished a stay at the Taj Lands End.  De...</td>\n",
       "      <td>2</td>\n",
       "      <td>Jul 2006</td>\n",
       "      <td>Jul</td>\n",
       "      <td>2006</td>\n",
       "      <td>Negative</td>\n",
       "      <td>finished stay Taj Lands End Definitely expecti...</td>\n",
       "    </tr>\n",
       "    <tr>\n",
       "      <th>4640</th>\n",
       "      <td>SugarWahine</td>\n",
       "      <td>Just finished a stay at the Taj Lands End.  De...</td>\n",
       "      <td>2</td>\n",
       "      <td>Jul 2006</td>\n",
       "      <td>Jul</td>\n",
       "      <td>2006</td>\n",
       "      <td>Negative</td>\n",
       "      <td>finished stay Taj Lands End Definitely expecti...</td>\n",
       "    </tr>\n",
       "    <tr>\n",
       "      <th>4643</th>\n",
       "      <td>Navigate23779</td>\n",
       "      <td>Stayed at the Taj Lands End, at the end of Sep...</td>\n",
       "      <td>2</td>\n",
       "      <td>Oct 2005</td>\n",
       "      <td>Oct</td>\n",
       "      <td>2005</td>\n",
       "      <td>Negative</td>\n",
       "      <td>Stayed Taj Lands End end September 2005 hotel ...</td>\n",
       "    </tr>\n",
       "    <tr>\n",
       "      <th>4643</th>\n",
       "      <td>Navigate23779</td>\n",
       "      <td>Stayed at the Taj Lands End, at the end of Sep...</td>\n",
       "      <td>2</td>\n",
       "      <td>Oct 2005</td>\n",
       "      <td>Oct</td>\n",
       "      <td>2005</td>\n",
       "      <td>Negative</td>\n",
       "      <td>Stayed Taj Lands End end September 2005 hotel ...</td>\n",
       "    </tr>\n",
       "    <tr>\n",
       "      <th>4643</th>\n",
       "      <td>Navigate23779</td>\n",
       "      <td>Stayed at the Taj Lands End, at the end of Sep...</td>\n",
       "      <td>2</td>\n",
       "      <td>Oct 2005</td>\n",
       "      <td>Oct</td>\n",
       "      <td>2005</td>\n",
       "      <td>Negative</td>\n",
       "      <td>Stayed Taj Lands End end September 2005 hotel ...</td>\n",
       "    </tr>\n",
       "  </tbody>\n",
       "</table>\n",
       "<p>1500 rows × 8 columns</p>\n",
       "</div>"
      ],
      "text/plain": [
       "              Reviewer                                             Review  \\\n",
       "0         tarunsonawat  Amazing, relaxed and a safe trip. The services...   \n",
       "1     priyeshvarsolkar  We had great time. We went for our 1st marriag...   \n",
       "2            cgganster  We normally stay at the Taj Lands End due to i...   \n",
       "3          tanishq2020  Terrible service of restaurant VISTAS , they d...   \n",
       "3          tanishq2020  Terrible service of restaurant VISTAS , they d...   \n",
       "...                ...                                                ...   \n",
       "4640       SugarWahine  Just finished a stay at the Taj Lands End.  De...   \n",
       "4640       SugarWahine  Just finished a stay at the Taj Lands End.  De...   \n",
       "4643     Navigate23779  Stayed at the Taj Lands End, at the end of Sep...   \n",
       "4643     Navigate23779  Stayed at the Taj Lands End, at the end of Sep...   \n",
       "4643     Navigate23779  Stayed at the Taj Lands End, at the end of Sep...   \n",
       "\n",
       "      Ratings      Date Review_Month Review_Year Polarity_Rating  \\\n",
       "0           5  Dec 2020          Dec        2020        Positive   \n",
       "1           5  Dec 2020          Dec        2020        Positive   \n",
       "2           5  Dec 2020          Dec        2020        Positive   \n",
       "3           1  Dec 2020          Dec        2020        Negative   \n",
       "3           1  Dec 2020          Dec        2020        Negative   \n",
       "...       ...       ...          ...         ...             ...   \n",
       "4640        2  Jul 2006          Jul        2006        Negative   \n",
       "4640        2  Jul 2006          Jul        2006        Negative   \n",
       "4643        2  Oct 2005          Oct        2005        Negative   \n",
       "4643        2  Oct 2005          Oct        2005        Negative   \n",
       "4643        2  Oct 2005          Oct        2005        Negative   \n",
       "\n",
       "                                            Review Text  \n",
       "0     Amazing relaxed safe trip services good staff ...  \n",
       "1     great time went 1st marriage anniversary great...  \n",
       "2     normally stay Taj Lands End due location Bandr...  \n",
       "3     {Terrible service restaurant VISTAS dont know ...  \n",
       "3     {Terrible service restaurant VISTAS dont know ...  \n",
       "...                                                 ...  \n",
       "4640  finished stay Taj Lands End Definitely expecti...  \n",
       "4640  finished stay Taj Lands End Definitely expecti...  \n",
       "4643  Stayed Taj Lands End end September 2005 hotel ...  \n",
       "4643  Stayed Taj Lands End end September 2005 hotel ...  \n",
       "4643  Stayed Taj Lands End end September 2005 hotel ...  \n",
       "\n",
       "[1500 rows x 8 columns]"
      ]
     },
     "execution_count": 102,
     "metadata": {},
     "output_type": "execute_result"
    }
   ],
   "source": [
    "dataset.sort_index(axis=0, ascending=True)"
   ]
  },
  {
   "cell_type": "code",
   "execution_count": 103,
   "metadata": {},
   "outputs": [
    {
     "ename": "ModuleNotFoundError",
     "evalue": "No module named 'imblearn'",
     "output_type": "error",
     "traceback": [
      "\u001b[1;31m---------------------------------------------------------------------------\u001b[0m",
      "\u001b[1;31mModuleNotFoundError\u001b[0m                       Traceback (most recent call last)",
      "\u001b[1;32m<ipython-input-103-2ea327d3834b>\u001b[0m in \u001b[0;36m<module>\u001b[1;34m\u001b[0m\n\u001b[1;32m----> 1\u001b[1;33m \u001b[1;32mfrom\u001b[0m \u001b[0mimblearn\u001b[0m\u001b[1;33m.\u001b[0m\u001b[0mcombine\u001b[0m \u001b[1;32mimport\u001b[0m \u001b[0mSMOTETomek\u001b[0m\u001b[1;33m\u001b[0m\u001b[1;33m\u001b[0m\u001b[0m\n\u001b[0m\u001b[0;32m      2\u001b[0m \u001b[1;32mfrom\u001b[0m \u001b[0mimblearn\u001b[0m\u001b[1;33m.\u001b[0m\u001b[0munder_sampling\u001b[0m \u001b[1;32mimport\u001b[0m \u001b[0mNearMiss\u001b[0m\u001b[1;33m\u001b[0m\u001b[1;33m\u001b[0m\u001b[0m\n",
      "\u001b[1;31mModuleNotFoundError\u001b[0m: No module named 'imblearn'"
     ]
    }
   ],
   "source": []
  },
  {
   "cell_type": "code",
   "execution_count": 79,
   "metadata": {},
   "outputs": [
    {
     "data": {
      "text/plain": [
       "str"
      ]
     },
     "execution_count": 79,
     "metadata": {},
     "output_type": "execute_result"
    }
   ],
   "source": [
    "type(dataset['Review Text'][4])"
   ]
  },
  {
   "cell_type": "code",
   "execution_count": 36,
   "metadata": {},
   "outputs": [],
   "source": [
    "from nltk import PorterStemmer\n",
    "stemmer = PorterStemmer()"
   ]
  },
  {
   "cell_type": "code",
   "execution_count": 101,
   "metadata": {},
   "outputs": [
    {
     "name": "stdout",
     "output_type": "stream",
     "text": [
      "<class 'str'>\n",
      "<class 'str'>\n",
      "<class 'str'>\n"
     ]
    },
    {
     "ename": "TypeError",
     "evalue": "expected string or bytes-like object",
     "output_type": "error",
     "traceback": [
      "\u001b[1;31m---------------------------------------------------------------------------\u001b[0m",
      "\u001b[1;31mTypeError\u001b[0m                                 Traceback (most recent call last)",
      "\u001b[1;32m<ipython-input-101-47bb8a237b56>\u001b[0m in \u001b[0;36m<module>\u001b[1;34m\u001b[0m\n\u001b[0;32m      4\u001b[0m     \u001b[1;32mif\u001b[0m \u001b[0mi\u001b[0m \u001b[1;33m!=\u001b[0m \u001b[1;36m4\u001b[0m\u001b[1;33m:\u001b[0m\u001b[1;33m\u001b[0m\u001b[1;33m\u001b[0m\u001b[0m\n\u001b[0;32m      5\u001b[0m         \u001b[1;31m#print(i)\u001b[0m\u001b[1;33m\u001b[0m\u001b[1;33m\u001b[0m\u001b[1;33m\u001b[0m\u001b[0m\n\u001b[1;32m----> 6\u001b[1;33m         \u001b[0mres\u001b[0m \u001b[1;33m=\u001b[0m \u001b[0mstr\u001b[0m\u001b[1;33m(\u001b[0m\u001b[1;34m\" \"\u001b[0m\u001b[1;33m.\u001b[0m\u001b[0mjoin\u001b[0m\u001b[1;33m(\u001b[0m\u001b[0mre\u001b[0m\u001b[1;33m.\u001b[0m\u001b[0mfindall\u001b[0m\u001b[1;33m(\u001b[0m\u001b[1;34mr'\\w+'\u001b[0m\u001b[1;33m,\u001b[0m \u001b[0mdatasetSet\u001b[0m\u001b[1;33m[\u001b[0m\u001b[0mi\u001b[0m\u001b[1;33m]\u001b[0m\u001b[1;33m)\u001b[0m\u001b[1;33m)\u001b[0m\u001b[1;33m)\u001b[0m\u001b[1;33m\u001b[0m\u001b[1;33m\u001b[0m\u001b[0m\n\u001b[0m\u001b[0;32m      7\u001b[0m         \u001b[0mprint\u001b[0m\u001b[1;33m(\u001b[0m\u001b[0mtype\u001b[0m\u001b[1;33m(\u001b[0m\u001b[0mres\u001b[0m\u001b[1;33m)\u001b[0m\u001b[1;33m)\u001b[0m\u001b[1;33m\u001b[0m\u001b[1;33m\u001b[0m\u001b[0m\n\u001b[0;32m      8\u001b[0m         \u001b[1;31m#words = nltk.word_tokenize(dataset['Review Text'][i])\u001b[0m\u001b[1;33m\u001b[0m\u001b[1;33m\u001b[0m\u001b[1;33m\u001b[0m\u001b[0m\n",
      "\u001b[1;32mc:\\users\\sonih\\appdata\\local\\programs\\python\\python37\\lib\\re.py\u001b[0m in \u001b[0;36mfindall\u001b[1;34m(pattern, string, flags)\u001b[0m\n\u001b[0;32m    221\u001b[0m \u001b[1;33m\u001b[0m\u001b[0m\n\u001b[0;32m    222\u001b[0m     Empty matches are included in the result.\"\"\"\n\u001b[1;32m--> 223\u001b[1;33m     \u001b[1;32mreturn\u001b[0m \u001b[0m_compile\u001b[0m\u001b[1;33m(\u001b[0m\u001b[0mpattern\u001b[0m\u001b[1;33m,\u001b[0m \u001b[0mflags\u001b[0m\u001b[1;33m)\u001b[0m\u001b[1;33m.\u001b[0m\u001b[0mfindall\u001b[0m\u001b[1;33m(\u001b[0m\u001b[0mstring\u001b[0m\u001b[1;33m)\u001b[0m\u001b[1;33m\u001b[0m\u001b[1;33m\u001b[0m\u001b[0m\n\u001b[0m\u001b[0;32m    224\u001b[0m \u001b[1;33m\u001b[0m\u001b[0m\n\u001b[0;32m    225\u001b[0m \u001b[1;32mdef\u001b[0m \u001b[0mfinditer\u001b[0m\u001b[1;33m(\u001b[0m\u001b[0mpattern\u001b[0m\u001b[1;33m,\u001b[0m \u001b[0mstring\u001b[0m\u001b[1;33m,\u001b[0m \u001b[0mflags\u001b[0m\u001b[1;33m=\u001b[0m\u001b[1;36m0\u001b[0m\u001b[1;33m)\u001b[0m\u001b[1;33m:\u001b[0m\u001b[1;33m\u001b[0m\u001b[1;33m\u001b[0m\u001b[0m\n",
      "\u001b[1;31mTypeError\u001b[0m: expected string or bytes-like object"
     ]
    }
   ],
   "source": [
    "w = []\n",
    "for i in range(5):\n",
    "    #print(dataset['Review Text'][4])\n",
    "    if i != 4:\n",
    "        #print(i)\n",
    "        res = str(\" \".join(re.findall(r'\\w+', datasetSet[i])))\n",
    "        print(type(res))\n",
    "        #words = nltk.word_tokenize(dataset['Review Text'][i])\n",
    "        #words = [stemmer.stem(word) for word in words if word not in set(stopwords.words('english'))]\n",
    "        #w.append(' '.join(words))"
   ]
  },
  {
   "cell_type": "code",
   "execution_count": 67,
   "metadata": {},
   "outputs": [
    {
     "data": {
      "text/plain": [
       "['hotel locat nice place taj signatur servic standard good worth money enjoy stay charg extra water fair otherwis overal good experi would recommend hotel']"
      ]
     },
     "execution_count": 67,
     "metadata": {},
     "output_type": "execute_result"
    }
   ],
   "source": [
    "w"
   ]
  },
  {
   "cell_type": "code",
   "execution_count": 51,
   "metadata": {},
   "outputs": [],
   "source": [
    "final_data.to_csv(\"finalDataSet.csv\")"
   ]
  }
 ],
 "metadata": {
  "kernelspec": {
   "display_name": "Python 3",
   "language": "python",
   "name": "python3"
  },
  "language_info": {
   "codemirror_mode": {
    "name": "ipython",
    "version": 3
   },
   "file_extension": ".py",
   "mimetype": "text/x-python",
   "name": "python",
   "nbconvert_exporter": "python",
   "pygments_lexer": "ipython3",
   "version": "3.7.5"
  }
 },
 "nbformat": 4,
 "nbformat_minor": 4
}
