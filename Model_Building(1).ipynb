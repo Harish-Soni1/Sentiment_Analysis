{
 "cells": [
  {
   "cell_type": "markdown",
   "metadata": {},
   "source": [
    "# Imported Necessary Lib"
   ]
  },
  {
   "cell_type": "code",
   "execution_count": 67,
   "metadata": {},
   "outputs": [],
   "source": [
    "import pandas as pd\n",
    "import numpy as np\n",
    "import matplotlib.pyplot as plt\n",
    "from sklearn.feature_extraction.text import CountVectorizer\n",
    "from imblearn.over_sampling import SMOTE\n",
    "from sklearn.model_selection import train_test_split\n",
    "from sklearn.ensemble import RandomForestClassifier\n",
    "from sklearn.metrics import accuracy_score,recall_score,classification_report,confusion_matrix,roc_curve, roc_auc_score,auc\n",
    "from sklearn.naive_bayes import MultinomialNB\n",
    "from sklearn.linear_model import LogisticRegression\n",
    "import xgboost as xg\n",
    "from sklearn import svm\n",
    "from sklearn.multiclass import OneVsRestClassifier\n",
    "from sklearn.ensemble import  AdaBoostClassifier\n",
    "from sklearn.neighbors import KNeighborsClassifier\n",
    "from sklearn.linear_model import Perceptron\n",
    "from sklearn.linear_model import PassiveAggressiveClassifier\n",
    "from sklearn.discriminant_analysis import LinearDiscriminantAnalysis\n",
    "from sklearn.linear_model import RidgeClassifier\n",
    "from sklearn.linear_model import SGDClassifier\n",
    "import sklearn.metrics as metrics"
   ]
  },
  {
   "cell_type": "code",
   "execution_count": 2,
   "metadata": {},
   "outputs": [],
   "source": [
    "data = pd.read_csv(\"model.csv\")"
   ]
  },
  {
   "cell_type": "code",
   "execution_count": 3,
   "metadata": {},
   "outputs": [
    {
     "name": "stdout",
     "output_type": "stream",
     "text": [
      "Data Head\n",
      "                                               Review    Label\n",
      "0  may sound noisi initi find good place bar nois...  Postive\n",
      "1  good burger atmospher uniqu expect hard rock m...  Postive\n",
      "2  pre arrang breakfast peopl open us normal open...  Postive\n",
      "3  nice decor share platter crumb chicken spring ...  Postive\n",
      "4  great hard rock never bad countri favourit far...  Postive\n"
     ]
    }
   ],
   "source": [
    "print(\"Data Head\\n\",data.head())"
   ]
  },
  {
   "cell_type": "code",
   "execution_count": 4,
   "metadata": {
    "scrolled": true
   },
   "outputs": [
    {
     "name": "stdout",
     "output_type": "stream",
     "text": [
      "Data Describe\n",
      "                                                    Review    Label\n",
      "count                                                3062     3062\n",
      "unique                                               1543        3\n",
      "top     visit son whilst break birthday price reason c...  Postive\n",
      "freq                                                    3     2742\n"
     ]
    }
   ],
   "source": [
    "print(\"Data Describe\\n\", data.describe())"
   ]
  },
  {
   "cell_type": "code",
   "execution_count": 5,
   "metadata": {},
   "outputs": [
    {
     "name": "stdout",
     "output_type": "stream",
     "text": [
      "Data Shape\n",
      " (3062, 2)\n"
     ]
    }
   ],
   "source": [
    "print(\"Data Shape\\n\",data.shape)"
   ]
  },
  {
   "cell_type": "code",
   "execution_count": 6,
   "metadata": {},
   "outputs": [
    {
     "name": "stdout",
     "output_type": "stream",
     "text": [
      "Data Label Count\n",
      "\n",
      " Postive     2742\n",
      "Negative     173\n",
      "Neutral      147\n",
      "Name: Label, dtype: int64\n"
     ]
    }
   ],
   "source": [
    "print(\"Data Label Count\\n\\n\", data[\"Label\"].value_counts())"
   ]
  },
  {
   "cell_type": "code",
   "execution_count": 7,
   "metadata": {},
   "outputs": [
    {
     "data": {
      "image/png": "[encoded data removed]",
      "text/plain": [
       "<Figure size 432x288 with 1 Axes>"
      ]
     },
     "metadata": {
      "needs_background": "light"
     },
     "output_type": "display_data"
    }
   ],
   "source": [
    "plt.hist(data.Label)\n",
    "plt.title(\"Checking Data is balanced or Not, using hist\",fontweight =\"bold\")\n",
    "plt.show()"
   ]
  },
  {
   "cell_type": "markdown",
   "metadata": {},
   "source": [
    "###### There is a data imbalance "
   ]
  },
  {
   "cell_type": "markdown",
   "metadata": {},
   "source": [
    "# CountVectorizer\n",
    "\n",
    "#### The CountVectorizer provides a simple way to both tokenize a collection of text documents and build a vocabulary of known words, but also to encode new documents using that vocabulary. You can use it as follows: Create an instance of the CountVectorizer class"
   ]
  },
  {
   "cell_type": "code",
   "execution_count": 8,
   "metadata": {},
   "outputs": [],
   "source": [
    "count_vect = CountVectorizer(max_features = 3000)\n",
    "x = count_vect.fit_transform(data['Review']).toarray()"
   ]
  },
  {
   "cell_type": "code",
   "execution_count": 9,
   "metadata": {
    "scrolled": true
   },
   "outputs": [
    {
     "name": "stdout",
     "output_type": "stream",
     "text": [
      "count_vector shape\n",
      "\n",
      " (3062, 2424)\n"
     ]
    }
   ],
   "source": [
    "print(\"count_vector shape\\n\\n\",x.shape)"
   ]
  },
  {
   "cell_type": "markdown",
   "metadata": {},
   "source": [
    "# SMOTE - Synthetic Minority Oversampling Technique\n",
    "\n",
    "##### way to solve this problem is to oversample the examples in the minority class. This can be achieved by simply duplicating examples from the minority class in the training dataset prior to fitting a model. This can balance the class distribution but does not provide any additional information to the model."
   ]
  },
  {
   "cell_type": "code",
   "execution_count": 10,
   "metadata": {},
   "outputs": [],
   "source": [
    "over_sample = SMOTE(random_state = 42, sampling_strategy = \"all\")"
   ]
  },
  {
   "cell_type": "code",
   "execution_count": 11,
   "metadata": {},
   "outputs": [],
   "source": [
    "X_train_oversample, y_train_oversample = over_sample.fit_sample(x,data['Label'])"
   ]
  },
  {
   "cell_type": "code",
   "execution_count": 12,
   "metadata": {},
   "outputs": [
    {
     "name": "stdout",
     "output_type": "stream",
     "text": [
      "y_Train over sample \n",
      "\n",
      " Neutral     2742\n",
      "Postive     2742\n",
      "Negative    2742\n",
      "Name: Label, dtype: int64\n"
     ]
    }
   ],
   "source": [
    "print(\"y_Train over sample \\n\\n\", y_train_oversample.value_counts())"
   ]
  },
  {
   "cell_type": "code",
   "execution_count": 13,
   "metadata": {
    "scrolled": true
   },
   "outputs": [
    {
     "name": "stdout",
     "output_type": "stream",
     "text": [
      "x_train over sample (8226, 2424)\n"
     ]
    }
   ],
   "source": [
    "print(\"x_train over sample\", X_train_oversample.shape)"
   ]
  },
  {
   "cell_type": "code",
   "execution_count": 14,
   "metadata": {},
   "outputs": [
    {
     "data": {
      "image/png": "[encoded data removed]",
      "text/plain": [
       "<Figure size 432x288 with 1 Axes>"
      ]
     },
     "metadata": {
      "needs_background": "light"
     },
     "output_type": "display_data"
    }
   ],
   "source": [
    "colors = ['lime'] \n",
    "  \n",
    "plt.hist(y_train_oversample, \n",
    "         density = True,  \n",
    "         histtype ='barstacked', \n",
    "         color = colors)  \n",
    "  \n",
    "plt.title('balanced Data\\n\\n', \n",
    "          fontweight =\"bold\") \n",
    "  \n",
    "plt.show()"
   ]
  },
  {
   "cell_type": "markdown",
   "metadata": {},
   "source": [
    "# Spliting The data into Train and validation"
   ]
  },
  {
   "cell_type": "code",
   "execution_count": 15,
   "metadata": {},
   "outputs": [],
   "source": [
    "x_train,x_test,y_train,y_test = train_test_split(X_train_oversample, y_train_oversample, test_size = 0.3, random_state = 42)"
   ]
  },
  {
   "cell_type": "code",
   "execution_count": 16,
   "metadata": {
    "scrolled": true
   },
   "outputs": [
    {
     "name": "stdout",
     "output_type": "stream",
     "text": [
      "X_train shape= (5758, 2424) \n",
      " y_train shape= (5758,)\n",
      "x_test shape= (2468, 2424) \n",
      " Y_test shape= (2468,)\n"
     ]
    }
   ],
   "source": [
    "print(\"X_train shape=\",x_train.shape,'\\n',\"y_train shape=\",y_train.shape)\n",
    "print(\"x_test shape=\",x_test.shape,'\\n',\"Y_test shape=\" ,y_test.shape)"
   ]
  },
  {
   "cell_type": "markdown",
   "metadata": {},
   "source": [
    "# Ensemble \n",
    "\n",
    "\n",
    "#### Random_Forest_bagging"
   ]
  },
  {
   "cell_type": "code",
   "execution_count": 17,
   "metadata": {},
   "outputs": [
    {
     "data": {
      "text/plain": [
       "RandomForestClassifier(n_estimators=120, n_jobs=-1, random_state=50)"
      ]
     },
     "execution_count": 17,
     "metadata": {},
     "output_type": "execute_result"
    }
   ],
   "source": [
    "RF = RandomForestClassifier(n_estimators = 120,\n",
    "                           random_state = 50,\n",
    "                           n_jobs = -1,\n",
    "                           max_features = 'auto')\n",
    "RF.fit(X_train_oversample,y_train_oversample)"
   ]
  },
  {
   "cell_type": "code",
   "execution_count": 18,
   "metadata": {},
   "outputs": [],
   "source": [
    "rf_pred = RF.predict(x_test)"
   ]
  },
  {
   "cell_type": "code",
   "execution_count": 19,
   "metadata": {},
   "outputs": [
    {
     "name": "stdout",
     "output_type": "stream",
     "text": [
      "Recall= 0.9918962722852512 \n",
      "\n",
      "Accuracy of Random forest classifier= 0.9918962722852512 \n",
      "\n",
      "Classification Report:\n",
      "               precision    recall  f1-score   support\n",
      "\n",
      "    Negative       0.99      0.98      0.99       804\n",
      "     Neutral       0.98      0.99      0.99       821\n",
      "     Postive       1.00      1.00      1.00       843\n",
      "\n",
      "    accuracy                           0.99      2468\n",
      "   macro avg       0.99      0.99      0.99      2468\n",
      "weighted avg       0.99      0.99      0.99      2468\n",
      " \n",
      "\n",
      "Confusion Matrix \n",
      " [[790  14   0]\n",
      " [  6 815   0]\n",
      " [  0   0 843]] \n",
      "\n"
     ]
    }
   ],
   "source": [
    "print(\"Recall=\",recall_score(y_test, rf_pred, average='micro'),'\\n')\n",
    "print(\"Accuracy of Random forest classifier=\", accuracy_score(y_test,rf_pred),'\\n')\n",
    "print(\"Classification Report:\\n\", classification_report(y_test,rf_pred),'\\n')\n",
    "print(\"Confusion Matrix \\n\", confusion_matrix(y_test,rf_pred),'\\n')"
   ]
  },
  {
   "cell_type": "markdown",
   "metadata": {},
   "source": [
    "# MultinomialNB Algorithm\n",
    "#### Naive Bayes classifier for multinomial models\n",
    "\n",
    "#### The multinomial Naive Bayes classifier is suitable for classification with discrete features (e.g., word counts for text classification). The multinomial distribution normally requires integer feature counts. However, in practice, fractional counts such as tf-idf may also work.\n"
   ]
  },
  {
   "cell_type": "code",
   "execution_count": 20,
   "metadata": {},
   "outputs": [
    {
     "data": {
      "text/plain": [
       "MultinomialNB()"
      ]
     },
     "execution_count": 20,
     "metadata": {},
     "output_type": "execute_result"
    }
   ],
   "source": [
    "mn = MultinomialNB()\n",
    "mn.fit(X_train_oversample, y_train_oversample)"
   ]
  },
  {
   "cell_type": "code",
   "execution_count": 21,
   "metadata": {},
   "outputs": [],
   "source": [
    "mn_pred = mn.predict(x_test)"
   ]
  },
  {
   "cell_type": "code",
   "execution_count": 22,
   "metadata": {},
   "outputs": [
    {
     "name": "stdout",
     "output_type": "stream",
     "text": [
      "Recall= 0.8727714748784441 \n",
      "\n",
      "Accuracy of Multinomial Naive Bayes= 0.8727714748784441 \n",
      "\n",
      "Classification Report:\n",
      "               precision    recall  f1-score   support\n",
      "\n",
      "    Negative       0.79      0.90      0.84       804\n",
      "     Neutral       0.89      0.75      0.81       821\n",
      "     Postive       0.95      0.97      0.96       843\n",
      "\n",
      "    accuracy                           0.87      2468\n",
      "   macro avg       0.88      0.87      0.87      2468\n",
      "weighted avg       0.88      0.87      0.87      2468\n",
      "\n",
      "confusion matrix:\n",
      " [[724  59  21]\n",
      " [184 615  22]\n",
      " [ 10  18 815]]\n"
     ]
    }
   ],
   "source": [
    "print(\"Recall=\",recall_score(y_test, mn_pred, average='micro'),'\\n')\n",
    "print(\"Accuracy of Multinomial Naive Bayes=\", accuracy_score(y_test,mn_pred),'\\n')\n",
    "print(\"Classification Report:\\n\", classification_report(y_test,mn_pred))\n",
    "print(\"confusion matrix:\\n\", confusion_matrix(y_test,mn_pred))"
   ]
  },
  {
   "cell_type": "markdown",
   "metadata": {},
   "source": [
    "# SGDClassifier"
   ]
  },
  {
   "cell_type": "code",
   "execution_count": 23,
   "metadata": {},
   "outputs": [],
   "source": [
    "sgd = SGDClassifier(alpha = 0.00047, random_state = 50)"
   ]
  },
  {
   "cell_type": "code",
   "execution_count": 24,
   "metadata": {},
   "outputs": [],
   "source": [
    "sgd.fit(X_train_oversample, y_train_oversample)\n",
    "sgd_pred = sgd.predict(x_test)"
   ]
  },
  {
   "cell_type": "code",
   "execution_count": 25,
   "metadata": {},
   "outputs": [
    {
     "name": "stdout",
     "output_type": "stream",
     "text": [
      "Recall: 0.9671799027552674 \n",
      "\n",
      "Accuracy of SGD= 0.9671799027552674 \n",
      "\n",
      "classification report of SGD:\n",
      "               precision    recall  f1-score   support\n",
      "\n",
      "    Negative       0.98      0.94      0.96       804\n",
      "     Neutral       0.94      0.96      0.95       821\n",
      "     Postive       0.99      1.00      0.99       843\n",
      "\n",
      "    accuracy                           0.97      2468\n",
      "   macro avg       0.97      0.97      0.97      2468\n",
      "weighted avg       0.97      0.97      0.97      2468\n",
      "\n",
      "Confusion matrix sgd:\n",
      " [[753  51   0]\n",
      " [ 19 791  11]\n",
      " [  0   0 843]]\n"
     ]
    }
   ],
   "source": [
    "print(\"Recall:\",recall_score(y_test,sgd_pred, average = 'micro'),'\\n')\n",
    "print(\"Accuracy of SGD=\", accuracy_score(y_test,sgd_pred),'\\n')\n",
    "print(\"classification report of SGD:\\n\", classification_report(y_test,sgd_pred))\n",
    "print(\"Confusion matrix sgd:\\n\", confusion_matrix(y_test,sgd_pred))"
   ]
  },
  {
   "cell_type": "markdown",
   "metadata": {},
   "source": [
    "# Logistic Regression"
   ]
  },
  {
   "cell_type": "code",
   "execution_count": 26,
   "metadata": {
    "scrolled": true
   },
   "outputs": [
    {
     "data": {
      "text/plain": [
       "LogisticRegression(max_iter=1000, multi_class='ovr', random_state=42,\n",
       "                   solver='liblinear')"
      ]
     },
     "execution_count": 26,
     "metadata": {},
     "output_type": "execute_result"
    }
   ],
   "source": [
    "LR = LogisticRegression(solver = 'liblinear',\n",
    "                       multi_class = 'ovr',\n",
    "                       max_iter = 1000,\n",
    "                       random_state = 42,\n",
    "                       penalty =\"l2\")\n",
    "LR.fit(X_train_oversample,y_train_oversample)"
   ]
  },
  {
   "cell_type": "code",
   "execution_count": 27,
   "metadata": {},
   "outputs": [],
   "source": [
    "LR_pred = LR.predict(x_test)"
   ]
  },
  {
   "cell_type": "code",
   "execution_count": 28,
   "metadata": {},
   "outputs": [
    {
     "name": "stdout",
     "output_type": "stream",
     "text": [
      "Recall: 0.9740680713128039 \n",
      "\n",
      "Accuracy of Logistic Regression= 0.9740680713128039 \n",
      "\n",
      "classification report of Logistic Regression:\n",
      "               precision    recall  f1-score   support\n",
      "\n",
      "    Negative       0.97      0.95      0.96       804\n",
      "     Neutral       0.95      0.98      0.96       821\n",
      "     Postive       1.00      1.00      1.00       843\n",
      "\n",
      "    accuracy                           0.97      2468\n",
      "   macro avg       0.97      0.97      0.97      2468\n",
      "weighted avg       0.97      0.97      0.97      2468\n",
      "\n",
      "Confusion matrix Logistic Regression:\n",
      " [[762  42   0]\n",
      " [ 20 801   0]\n",
      " [  0   2 841]]\n"
     ]
    }
   ],
   "source": [
    "print(\"Recall:\",recall_score(y_test,LR_pred, average = 'micro'),'\\n')\n",
    "print(\"Accuracy of Logistic Regression=\", accuracy_score(y_test,LR_pred),'\\n')\n",
    "print(\"classification report of Logistic Regression:\\n\", classification_report(y_test,LR_pred))\n",
    "print(\"Confusion matrix Logistic Regression:\\n\", confusion_matrix(y_test,LR_pred))"
   ]
  },
  {
   "cell_type": "markdown",
   "metadata": {},
   "source": [
    "# XGBoost"
   ]
  },
  {
   "cell_type": "code",
   "execution_count": 29,
   "metadata": {},
   "outputs": [
    {
     "name": "stderr",
     "output_type": "stream",
     "text": [
      "C:\\ProgramData\\Anaconda3\\lib\\site-packages\\xgboost\\sklearn.py:892: UserWarning: The use of label encoder in XGBClassifier is deprecated and will be removed in a future release. To remove this warning, do the following: 1) Pass option use_label_encoder=False when constructing XGBClassifier object; and 2) Encode your labels (y) as integers starting with 0, i.e. 0, 1, 2, ..., [num_class - 1].\n",
      "  warnings.warn(label_encoder_deprecation_msg, UserWarning)\n"
     ]
    },
    {
     "name": "stdout",
     "output_type": "stream",
     "text": [
      "[12:42:30] WARNING: C:/Users/Administrator/workspace/xgboost-win64_release_1.3.0/src/learner.cc:1061: Starting in XGBoost 1.3.0, the default evaluation metric used with the objective 'multi:softprob' was changed from 'merror' to 'mlogloss'. Explicitly set eval_metric if you'd like to restore the old behavior.\n"
     ]
    },
    {
     "data": {
      "text/plain": [
       "XGBClassifier(base_score=0.5, booster='gbtree', colsample_bylevel=1,\n",
       "              colsample_bynode=1, colsample_bytree=0.8, gamma=1, gpu_id=-1,\n",
       "              importance_type='gain', interaction_constraints='',\n",
       "              learning_rate=0.01, max_delta_step=0, max_depth=4,\n",
       "              min_child_weight=1, missing=nan, monotone_constraints='()',\n",
       "              n_estimators=100, n_jobs=4, num_class=3, num_parallel_tree=1,\n",
       "              objective='multi:softprob', random_state=0, reg_alpha=0.3,\n",
       "              reg_lambda=1, scale_pos_weight=None, subsample=0.8,\n",
       "              tree_method='exact', validate_parameters=1, verbosity=None)"
      ]
     },
     "execution_count": 29,
     "metadata": {},
     "output_type": "execute_result"
    }
   ],
   "source": [
    "xgb = xg.XGBClassifier(learning_rate = 0.01,\n",
    "                       colsample_bytree = 0.8,\n",
    "                       subsample = 0.8,\n",
    "                       objective = 'multi:softmax', \n",
    "                       n_estimators = 100, \n",
    "                       reg_alpha = 0.3,\n",
    "                       max_depth = 4, \n",
    "                       gamma = 1,\n",
    "                       num_class = 3)\n",
    "xgb.fit(X_train_oversample,y_train_oversample)"
   ]
  },
  {
   "cell_type": "code",
   "execution_count": 30,
   "metadata": {},
   "outputs": [],
   "source": [
    "xgb_pred = xgb.predict(x_test)"
   ]
  },
  {
   "cell_type": "code",
   "execution_count": 31,
   "metadata": {},
   "outputs": [
    {
     "name": "stdout",
     "output_type": "stream",
     "text": [
      "Recall= 0.7965964343598055 \n",
      "\n",
      "Accuracy of XGB = 0.7965964343598055 \n",
      "\n",
      "Classification of XGB:\n",
      "               precision    recall  f1-score   support\n",
      "\n",
      "    Negative       0.88      0.62      0.73       804\n",
      "     Neutral       0.66      0.94      0.77       821\n",
      "     Postive       0.95      0.83      0.89       843\n",
      "\n",
      "    accuracy                           0.80      2468\n",
      "   macro avg       0.83      0.80      0.80      2468\n",
      "weighted avg       0.83      0.80      0.80      2468\n",
      " \n",
      "\n",
      "Confusion matrix of XGB:\n",
      " [[495 304   5]\n",
      " [ 20 769  32]\n",
      " [ 45  96 702]]\n"
     ]
    }
   ],
   "source": [
    "print(\"Recall=\",recall_score(y_test,xgb_pred,average = \"micro\"),'\\n')\n",
    "print(\"Accuracy of XGB =\", accuracy_score(y_test,xgb_pred),\"\\n\")\n",
    "print(\"Classification of XGB:\\n\",classification_report(y_test,xgb_pred),\"\\n\")\n",
    "print(\"Confusion matrix of XGB:\\n\",confusion_matrix(y_test,xgb_pred))"
   ]
  },
  {
   "cell_type": "markdown",
   "metadata": {},
   "source": [
    "# suport vector classifier"
   ]
  },
  {
   "cell_type": "code",
   "execution_count": 32,
   "metadata": {},
   "outputs": [
    {
     "data": {
      "text/plain": [
       "LinearSVC()"
      ]
     },
     "execution_count": 32,
     "metadata": {},
     "output_type": "execute_result"
    }
   ],
   "source": [
    "svm = svm.LinearSVC(multi_class = 'ovr')\n",
    "svm.fit(X_train_oversample,y_train_oversample)"
   ]
  },
  {
   "cell_type": "code",
   "execution_count": 33,
   "metadata": {},
   "outputs": [],
   "source": [
    "svm_pred = svm.predict(x_test)"
   ]
  },
  {
   "cell_type": "code",
   "execution_count": 34,
   "metadata": {
    "scrolled": true
   },
   "outputs": [
    {
     "name": "stdout",
     "output_type": "stream",
     "text": [
      "Recall= 0.983387358184765 \n",
      "\n",
      "Accuracy of svm= 0.983387358184765 \n",
      "\n",
      "Classification of svm:\n",
      "               precision    recall  f1-score   support\n",
      "\n",
      "    Negative       0.97      0.98      0.97       804\n",
      "     Neutral       0.98      0.97      0.98       821\n",
      "     Postive       1.00      1.00      1.00       843\n",
      "\n",
      "    accuracy                           0.98      2468\n",
      "   macro avg       0.98      0.98      0.98      2468\n",
      "weighted avg       0.98      0.98      0.98      2468\n",
      "\n",
      "Confusion matrix of svm:\n",
      " [[784  20   0]\n",
      " [ 21 800   0]\n",
      " [  0   0 843]]\n"
     ]
    }
   ],
   "source": [
    "print(\"Recall=\",recall_score(y_test,svm_pred,average ='micro'),'\\n')\n",
    "print(\"Accuracy of svm=\", accuracy_score(y_test,svm_pred),\"\\n\")\n",
    "print(\"Classification of svm:\\n\",classification_report(y_test,svm_pred))\n",
    "print(\"Confusion matrix of svm:\\n\",confusion_matrix(y_test,svm_pred))"
   ]
  },
  {
   "cell_type": "markdown",
   "metadata": {},
   "source": [
    "# OneVsRestClassifier\n",
    "##### Also known as one-vs-all, this strategy consists in fitting one classifier per class. For each classifier, the class is fitted against all the other classes. In addition to its computational efficiency (only n_classes classifiers are needed), one advantage of this approach is its interpretability. Since each class is represented by one and one classifier only, it is possible to gain knowledge about the class by inspecting its corresponding classifier. This is the most commonly used strategy for multiclass classification and is a fair default choice."
   ]
  },
  {
   "cell_type": "markdown",
   "metadata": {},
   "source": [
    "# AdaBoostClassifier\n",
    "#### It is a meta-estimator that begins by fitting a classifier on the original dataset and then fits additional copies of the classifier on the same dataset but where the weights of incorrectly classified instances are adjusted such that subsequent classifiers focus more on difficult cases."
   ]
  },
  {
   "cell_type": "code",
   "execution_count": 35,
   "metadata": {},
   "outputs": [
    {
     "data": {
      "text/plain": [
       "OneVsRestClassifier(estimator=AdaBoostClassifier())"
      ]
     },
     "execution_count": 35,
     "metadata": {},
     "output_type": "execute_result"
    }
   ],
   "source": [
    "ada_model = OneVsRestClassifier(AdaBoostClassifier())\n",
    "ada_model.fit(X_train_oversample,y_train_oversample)"
   ]
  },
  {
   "cell_type": "code",
   "execution_count": 36,
   "metadata": {},
   "outputs": [],
   "source": [
    "ada_pred = ada_model.predict(x_test)"
   ]
  },
  {
   "cell_type": "code",
   "execution_count": 37,
   "metadata": {},
   "outputs": [
    {
     "name": "stdout",
     "output_type": "stream",
     "text": [
      "Recall = 0.88290113452188\n",
      "Accuracy of ada = 0.88290113452188 \n",
      "\n",
      "Classification of ada:\n",
      "               precision    recall  f1-score   support\n",
      "\n",
      "    Negative       0.91      0.80      0.85       804\n",
      "     Neutral       0.80      0.93      0.86       821\n",
      "     Postive       0.95      0.92      0.93       843\n",
      "\n",
      "    accuracy                           0.88      2468\n",
      "   macro avg       0.89      0.88      0.88      2468\n",
      "weighted avg       0.89      0.88      0.88      2468\n",
      " \n",
      "\n",
      "Confusion matrix of ada:\n",
      " [[642 149  13]\n",
      " [ 30 760  31]\n",
      " [ 30  36 777]]\n"
     ]
    }
   ],
   "source": [
    "print(\"Recall =\",recall_score(y_test,ada_pred,average='micro'))\n",
    "print(\"Accuracy of ada =\", accuracy_score(y_test,ada_pred),\"\\n\")\n",
    "print(\"Classification of ada:\\n\",classification_report(y_test,ada_pred),\"\\n\")\n",
    "print(\"Confusion matrix of ada:\\n\",confusion_matrix(y_test,ada_pred))"
   ]
  },
  {
   "cell_type": "markdown",
   "metadata": {},
   "source": [
    "# OneVsRestClassifier and XGBClassifier"
   ]
  },
  {
   "cell_type": "code",
   "execution_count": 38,
   "metadata": {},
   "outputs": [
    {
     "name": "stderr",
     "output_type": "stream",
     "text": [
      "C:\\ProgramData\\Anaconda3\\lib\\site-packages\\xgboost\\sklearn.py:892: UserWarning: The use of label encoder in XGBClassifier is deprecated and will be removed in a future release. To remove this warning, do the following: 1) Pass option use_label_encoder=False when constructing XGBClassifier object; and 2) Encode your labels (y) as integers starting with 0, i.e. 0, 1, 2, ..., [num_class - 1].\n",
      "  warnings.warn(label_encoder_deprecation_msg, UserWarning)\n"
     ]
    },
    {
     "name": "stdout",
     "output_type": "stream",
     "text": [
      "[12:46:40] WARNING: C:/Users/Administrator/workspace/xgboost-win64_release_1.3.0/src/learner.cc:1061: Starting in XGBoost 1.3.0, the default evaluation metric used with the objective 'binary:logistic' was changed from 'error' to 'logloss'. Explicitly set eval_metric if you'd like to restore the old behavior.\n",
      "[12:47:36] WARNING: C:/Users/Administrator/workspace/xgboost-win64_release_1.3.0/src/learner.cc:1061: Starting in XGBoost 1.3.0, the default evaluation metric used with the objective 'binary:logistic' was changed from 'error' to 'logloss'. Explicitly set eval_metric if you'd like to restore the old behavior.\n",
      "[12:48:36] WARNING: C:/Users/Administrator/workspace/xgboost-win64_release_1.3.0/src/learner.cc:1061: Starting in XGBoost 1.3.0, the default evaluation metric used with the objective 'binary:logistic' was changed from 'error' to 'logloss'. Explicitly set eval_metric if you'd like to restore the old behavior.\n"
     ]
    },
    {
     "data": {
      "text/plain": [
       "OneVsRestClassifier(estimator=XGBClassifier(base_score=None, booster=None,\n",
       "                                            colsample_bylevel=None,\n",
       "                                            colsample_bynode=None,\n",
       "                                            colsample_bytree=None, gamma=None,\n",
       "                                            gpu_id=None, importance_type='gain',\n",
       "                                            interaction_constraints=None,\n",
       "                                            learning_rate=None,\n",
       "                                            max_delta_step=None, max_depth=None,\n",
       "                                            min_child_weight=None, missing=nan,\n",
       "                                            monotone_constraints=None,\n",
       "                                            n_estimators=100, n_jobs=None,\n",
       "                                            num_parallel_tree=None,\n",
       "                                            random_state=None, reg_alpha=None,\n",
       "                                            reg_lambda=None,\n",
       "                                            scale_pos_weight=None,\n",
       "                                            subsample=None, tree_method=None,\n",
       "                                            validate_parameters=None,\n",
       "                                            verbosity=None))"
      ]
     },
     "execution_count": 38,
     "metadata": {},
     "output_type": "execute_result"
    }
   ],
   "source": [
    "ovr_model = OneVsRestClassifier(xg.XGBClassifier())\n",
    "ovr_model.fit(X_train_oversample,y_train_oversample)"
   ]
  },
  {
   "cell_type": "code",
   "execution_count": 39,
   "metadata": {},
   "outputs": [],
   "source": [
    "ovr_model_pred = ovr_model.predict(x_test)"
   ]
  },
  {
   "cell_type": "code",
   "execution_count": 40,
   "metadata": {
    "collapsed": true
   },
   "outputs": [
    {
     "name": "stdout",
     "output_type": "stream",
     "text": [
      "Recall= 0.9866288492706645\n",
      "Accuracy of OneVsRestClassifier using xgb= 0.9866288492706645 \n",
      "\n",
      "Classification of  OneVsRestClassifier using xgb:\n",
      "               precision    recall  f1-score   support\n",
      "\n",
      "    Negative       0.99      0.97      0.98       804\n",
      "     Neutral       0.97      0.99      0.98       821\n",
      "     Postive       1.00      1.00      1.00       843\n",
      "\n",
      "    accuracy                           0.99      2468\n",
      "   macro avg       0.99      0.99      0.99      2468\n",
      "weighted avg       0.99      0.99      0.99      2468\n",
      " \n",
      "\n",
      "Confusion matrix of  OneVsRestClassifier using xgb:\n",
      " [[777  27   0]\n",
      " [  5 816   0]\n",
      " [  0   1 842]]\n"
     ]
    }
   ],
   "source": [
    "print(\"Recall=\",recall_score(y_test,ovr_model_pred, average='micro'))\n",
    "print(\"Accuracy of OneVsRestClassifier using xgb=\", accuracy_score(y_test,ovr_model_pred),\"\\n\")\n",
    "print(\"Classification of  OneVsRestClassifier using xgb:\\n\",classification_report(y_test,ovr_model_pred),\"\\n\")\n",
    "print(\"Confusion matrix of  OneVsRestClassifier using xgb:\\n\",confusion_matrix(y_test,ovr_model_pred))"
   ]
  },
  {
   "cell_type": "markdown",
   "metadata": {},
   "source": [
    "# KNN classification"
   ]
  },
  {
   "cell_type": "code",
   "execution_count": 41,
   "metadata": {},
   "outputs": [
    {
     "data": {
      "text/plain": [
       "KNeighborsClassifier(n_neighbors=2)"
      ]
     },
     "execution_count": 41,
     "metadata": {},
     "output_type": "execute_result"
    }
   ],
   "source": [
    "knn = KNeighborsClassifier(n_neighbors = 2)\n",
    "knn.fit(X_train_oversample,y_train_oversample)"
   ]
  },
  {
   "cell_type": "code",
   "execution_count": 42,
   "metadata": {},
   "outputs": [],
   "source": [
    "knn_pred = knn.predict(x_test)"
   ]
  },
  {
   "cell_type": "code",
   "execution_count": 43,
   "metadata": {},
   "outputs": [
    {
     "name": "stdout",
     "output_type": "stream",
     "text": [
      "Recall= 0.9351701782820098\n",
      "Accuracy of knn= 0.9351701782820098 \n",
      "\n",
      "Classification of  knn:\n",
      "               precision    recall  f1-score   support\n",
      "\n",
      "    Negative       0.83      1.00      0.91       804\n",
      "     Neutral       1.00      0.81      0.89       821\n",
      "     Postive       1.00      1.00      1.00       843\n",
      "\n",
      "    accuracy                           0.94      2468\n",
      "   macro avg       0.94      0.94      0.93      2468\n",
      "weighted avg       0.95      0.94      0.93      2468\n",
      " \n",
      "\n",
      "Confusion matrix of knn:\n",
      " [[804   0   0]\n",
      " [158 663   0]\n",
      " [  2   0 841]]\n"
     ]
    }
   ],
   "source": [
    "print(\"Recall=\",recall_score(y_test,knn_pred,average = 'micro'))\n",
    "print(\"Accuracy of knn=\", accuracy_score(y_test,knn_pred),\"\\n\")\n",
    "print(\"Classification of  knn:\\n\",classification_report(y_test,knn_pred),\"\\n\")\n",
    "print(\"Confusion matrix of knn:\\n\",confusion_matrix(y_test,knn_pred))"
   ]
  },
  {
   "cell_type": "markdown",
   "metadata": {},
   "source": [
    "# Linear_Model"
   ]
  },
  {
   "cell_type": "code",
   "execution_count": 44,
   "metadata": {},
   "outputs": [
    {
     "data": {
      "text/plain": [
       "Perceptron(alpha=0.0005, penalty='l1')"
      ]
     },
     "execution_count": 44,
     "metadata": {},
     "output_type": "execute_result"
    }
   ],
   "source": [
    "per = Perceptron(penalty = 'l1',\n",
    "                alpha = 0.0005)\n",
    "per.fit(X_train_oversample, y_train_oversample)"
   ]
  },
  {
   "cell_type": "code",
   "execution_count": 45,
   "metadata": {},
   "outputs": [],
   "source": [
    "per_pred = per.predict(x_test)"
   ]
  },
  {
   "cell_type": "code",
   "execution_count": 46,
   "metadata": {},
   "outputs": [
    {
     "name": "stdout",
     "output_type": "stream",
     "text": [
      "Recall= 0.8845218800648298\n",
      "Accuracy of  Perceptron= 0.8845218800648298 \n",
      "\n",
      "Classification of   Perceptron:\n",
      "               precision    recall  f1-score   support\n",
      "\n",
      "    Negative       0.96      0.76      0.85       804\n",
      "     Neutral       0.78      0.96      0.86       821\n",
      "     Postive       0.95      0.93      0.94       843\n",
      "\n",
      "    accuracy                           0.88      2468\n",
      "   macro avg       0.90      0.88      0.88      2468\n",
      "weighted avg       0.90      0.88      0.88      2468\n",
      " \n",
      "\n",
      "Confusion matrix of  Perceptron:\n",
      " [[611 174  19]\n",
      " [  6 791  24]\n",
      " [ 18  44 781]]\n"
     ]
    }
   ],
   "source": [
    "print(\"Recall=\",recall_score(y_test,per_pred,average='micro'))\n",
    "print(\"Accuracy of  Perceptron=\", accuracy_score(y_test,per_pred),\"\\n\")\n",
    "print(\"Classification of   Perceptron:\\n\",classification_report(y_test,per_pred),\"\\n\")\n",
    "print(\"Confusion matrix of  Perceptron:\\n\",confusion_matrix(y_test,per_pred))"
   ]
  },
  {
   "cell_type": "code",
   "execution_count": 47,
   "metadata": {},
   "outputs": [],
   "source": [
    "pac = PassiveAggressiveClassifier(class_weight = 'balanced',\n",
    "                                 C = 0.4)\n",
    "pac.fit(X_train_oversample, y_train_oversample)\n",
    "pac_pred = pac.predict(x_test)"
   ]
  },
  {
   "cell_type": "code",
   "execution_count": 48,
   "metadata": {
    "scrolled": true
   },
   "outputs": [
    {
     "name": "stdout",
     "output_type": "stream",
     "text": [
      "Recall= 0.9817666126418152\n",
      "Accuracy of  PassiveAggressiveClassifier= 0.9817666126418152 \n",
      "\n",
      "Classification of   PassiveAggressiveClassifier\n",
      "\n",
      "               precision    recall  f1-score   support\n",
      "\n",
      "    Negative       0.97      0.98      0.97       804\n",
      "     Neutral       0.98      0.97      0.97       821\n",
      "     Postive       1.00      1.00      1.00       843\n",
      "\n",
      "    accuracy                           0.98      2468\n",
      "   macro avg       0.98      0.98      0.98      2468\n",
      "weighted avg       0.98      0.98      0.98      2468\n",
      " \n",
      "\n",
      "Confusion matrix of  PassiveAggressiveClassifier\n",
      "\n",
      "\n",
      " [[787  17   0]\n",
      " [ 28 793   0]\n",
      " [  0   0 843]]\n"
     ]
    }
   ],
   "source": [
    "print(\"Recall=\", recall_score(y_test,pac_pred,average='micro'))\n",
    "print(\"Accuracy of  PassiveAggressiveClassifier=\", accuracy_score(y_test,pac_pred),\"\\n\")\n",
    "print(\"Classification of   PassiveAggressiveClassifier\\n\\n\",classification_report(y_test,pac_pred),\"\\n\")\n",
    "print(\"Confusion matrix of  PassiveAggressiveClassifier\\n\\n\\n\",confusion_matrix(y_test,pac_pred))"
   ]
  },
  {
   "cell_type": "code",
   "execution_count": 49,
   "metadata": {},
   "outputs": [
    {
     "data": {
      "text/plain": [
       "LinearDiscriminantAnalysis()"
      ]
     },
     "execution_count": 49,
     "metadata": {},
     "output_type": "execute_result"
    }
   ],
   "source": [
    "lda = LinearDiscriminantAnalysis()\n",
    "lda.fit(X_train_oversample, y_train_oversample)"
   ]
  },
  {
   "cell_type": "code",
   "execution_count": 50,
   "metadata": {},
   "outputs": [],
   "source": [
    "lda_pred = lda.predict(x_test)"
   ]
  },
  {
   "cell_type": "code",
   "execution_count": 51,
   "metadata": {},
   "outputs": [
    {
     "name": "stdout",
     "output_type": "stream",
     "text": [
      "Recall= 0.9712317666126418\n",
      "Accuracy of  LinearDiscriminantAnalysi= 0.9712317666126418 \n",
      "\n",
      "Classification of   LinearDiscriminantAnalysi\n",
      "\n",
      "               precision    recall  f1-score   support\n",
      "\n",
      "    Negative       0.98      0.93      0.96       804\n",
      "     Neutral       0.93      0.98      0.96       821\n",
      "     Postive       1.00      1.00      1.00       843\n",
      "\n",
      "    accuracy                           0.97      2468\n",
      "   macro avg       0.97      0.97      0.97      2468\n",
      "weighted avg       0.97      0.97      0.97      2468\n",
      " \n",
      "\n",
      "Confusion matrix of  LinearDiscriminantAnalysi\n",
      "\n",
      "\n",
      " [[747  57   0]\n",
      " [ 13 808   0]\n",
      " [  0   1 842]]\n"
     ]
    }
   ],
   "source": [
    "print(\"Recall=\",recall_score(y_test,lda_pred,average='micro'))\n",
    "print(\"Accuracy of  LinearDiscriminantAnalysi=\", accuracy_score(y_test,lda_pred),\"\\n\")\n",
    "print(\"Classification of   LinearDiscriminantAnalysi\\n\\n\",classification_report(y_test,lda_pred),\"\\n\")\n",
    "print(\"Confusion matrix of  LinearDiscriminantAnalysi\\n\\n\\n\",confusion_matrix(y_test,lda_pred))"
   ]
  },
  {
   "cell_type": "markdown",
   "metadata": {},
   "source": [
    "# RIDGE "
   ]
  },
  {
   "cell_type": "code",
   "execution_count": 52,
   "metadata": {},
   "outputs": [
    {
     "data": {
      "text/plain": [
       "RidgeClassifier()"
      ]
     },
     "execution_count": 52,
     "metadata": {},
     "output_type": "execute_result"
    }
   ],
   "source": [
    "rc = RidgeClassifier()\n",
    "rc.fit(X_train_oversample, y_train_oversample)"
   ]
  },
  {
   "cell_type": "code",
   "execution_count": 53,
   "metadata": {},
   "outputs": [],
   "source": [
    "rc_pred = rc.predict(x_test)"
   ]
  },
  {
   "cell_type": "code",
   "execution_count": 54,
   "metadata": {},
   "outputs": [
    {
     "name": "stdout",
     "output_type": "stream",
     "text": [
      "Recall= 0.9517828200972447 \n",
      "\n",
      "Accuracy of ridge= 0.9517828200972447 \n",
      "\n",
      "Classification of ridge:\n",
      "               precision    recall  f1-score   support\n",
      "\n",
      "    Negative       0.97      0.88      0.92       804\n",
      "     Neutral       0.89      0.97      0.93       821\n",
      "     Postive       1.00      1.00      1.00       843\n",
      "\n",
      "    accuracy                           0.95      2468\n",
      "   macro avg       0.95      0.95      0.95      2468\n",
      "weighted avg       0.95      0.95      0.95      2468\n",
      " \n",
      "\n",
      "Confusion matrix of ridge:\n",
      " [[707  97   0]\n",
      " [ 21 800   0]\n",
      " [  1   0 842]]\n"
     ]
    }
   ],
   "source": [
    "print(\"Recall=\",recall_score(y_test,rc_pred,average='micro'),'\\n')\n",
    "print(\"Accuracy of ridge=\", accuracy_score(y_test,rc_pred),\"\\n\")\n",
    "print(\"Classification of ridge:\\n\",classification_report(y_test,rc_pred),\"\\n\")\n",
    "print(\"Confusion matrix of ridge:\\n\",confusion_matrix(y_test,rc_pred))"
   ]
  },
  {
   "cell_type": "markdown",
   "metadata": {},
   "source": [
    "# All Model Accuracy"
   ]
  },
  {
   "cell_type": "code",
   "execution_count": 74,
   "metadata": {
    "scrolled": false
   },
   "outputs": [
    {
     "name": "stdout",
     "output_type": "stream",
     "text": [
      "All Model Accuracy\n",
      "---------------------------------------------\n",
      "Accuracy of Random forest classifier= 0.9918962722852512 \n",
      "\n",
      "---------------------------------------------\n",
      "Accuracy of Multinomial Naive Bayes= 0.8727714748784441 \n",
      "\n",
      "---------------------------------------------\n",
      "Accuracy of SGD= 0.9671799027552674 \n",
      "\n",
      "---------------------------------------------\n",
      "Accuracy of Logistic Regression= 0.9740680713128039 \n",
      "\n",
      "---------------------------------------------\n",
      "Accuracy of svm= 0.983387358184765 \n",
      "\n",
      "---------------------------------------------\n",
      "Accuracy of ada = 0.88290113452188 \n",
      "\n",
      "---------------------------------------------\n",
      "Accuracy of XGB = 0.7965964343598055 \n",
      "\n",
      "---------------------------------------------\n",
      "Accuracy of knn= 0.9351701782820098 \n",
      "\n",
      "---------------------------------------------\n",
      "Accuracy of Perceptron= 0.8845218800648298 \n",
      "\n",
      "---------------------------------------------\n",
      "Accuracy of PassiveAggressiveClassifier= 0.9817666126418152 \n",
      "\n",
      "---------------------------------------------\n",
      "Accuracy of LinearDiscriminantAnalysi= 0.9712317666126418 \n",
      "\n",
      "---------------------------------------------\n",
      "Accuracy of ridge= 0.9517828200972447 \n",
      "\n"
     ]
    }
   ],
   "source": [
    "print(\"All Model Accuracy\")\n",
    "\n",
    "print(\"---------------------------------------------\")\n",
    "print(\"Accuracy of Random forest classifier=\", accuracy_score(y_test,rf_pred),'\\n')\n",
    "print(\"---------------------------------------------\")\n",
    "print(\"Accuracy of Multinomial Naive Bayes=\", accuracy_score(y_test,mn_pred),'\\n')\n",
    "print(\"---------------------------------------------\")\n",
    "print(\"Accuracy of SGD=\", accuracy_score(y_test,sgd_pred),'\\n')\n",
    "print(\"---------------------------------------------\")\n",
    "print(\"Accuracy of Logistic Regression=\", accuracy_score(y_test,LR_pred),'\\n')\n",
    "print(\"---------------------------------------------\")\n",
    "print(\"Accuracy of svm=\", accuracy_score(y_test,svm_pred),\"\\n\")\n",
    "print(\"---------------------------------------------\")\n",
    "print(\"Accuracy of ada =\", accuracy_score(y_test,ada_pred),\"\\n\")\n",
    "print(\"---------------------------------------------\")\n",
    "print(\"Accuracy of XGB =\", accuracy_score(y_test,xgb_pred),\"\\n\")\n",
    "print(\"---------------------------------------------\")\n",
    "#print(\"Accuracy of OneVsRestClassifier using xgb=\", accuracy_score(y_test,ovr_model_pred),\"\\n\")\n",
    "print(\"Accuracy of knn=\", accuracy_score(y_test,knn_pred),\"\\n\")\n",
    "print(\"---------------------------------------------\")\n",
    "print(\"Accuracy of Perceptron=\", accuracy_score(y_test,per_pred),\"\\n\")\n",
    "print(\"---------------------------------------------\")\n",
    "print(\"Accuracy of PassiveAggressiveClassifier=\", accuracy_score(y_test,pac_pred),\"\\n\")\n",
    "print(\"---------------------------------------------\")\n",
    "print(\"Accuracy of LinearDiscriminantAnalysi=\", accuracy_score(y_test,lda_pred),\"\\n\")\n",
    "print(\"---------------------------------------------\")\n",
    "print(\"Accuracy of ridge=\", accuracy_score(y_test,rc_pred),\"\\n\")"
   ]
  },
  {
   "cell_type": "markdown",
   "metadata": {},
   "source": [
    "# We selected RandomForest"
   ]
  }
 ],
 "metadata": {
  "kernelspec": {
   "display_name": "Python 3",
   "language": "python",
   "name": "python3"
  },
  "language_info": {
   "codemirror_mode": {
    "name": "ipython",
    "version": 3
   },
   "file_extension": ".py",
   "mimetype": "text/x-python",
   "name": "python",
   "nbconvert_exporter": "python",
   "pygments_lexer": "ipython3",
   "version": "3.7.5"
  }
 },
 "nbformat": 4,
 "nbformat_minor": 4
}
